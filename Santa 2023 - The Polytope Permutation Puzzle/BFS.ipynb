{
 "cells": [
  {
   "cell_type": "markdown",
   "id": "f76babed",
   "metadata": {
    "papermill": {
     "duration": 0.01248,
     "end_time": "2023-12-21T00:21:37.821152",
     "exception": false,
     "start_time": "2023-12-21T00:21:37.808672",
     "status": "completed"
    },
    "tags": []
   },
   "source": [
    "# First look at the Santa 2023 Problem\n",
    "\n",
    "This notebook was created during the twitch/youtube stream you can watch here:\n",
    "\n",
    "https://www.youtube.com/watch?v=hNLJwpyN9iE"
   ]
  },
  {
   "cell_type": "code",
   "execution_count": 1,
   "id": "b1f942ee",
   "metadata": {
    "_cell_guid": "b1076dfc-b9ad-4769-8c92-a6c4dae69d19",
    "_uuid": "8f2839f25d086af736a60e9eeb907d3b93b6e0e5",
    "execution": {
     "iopub.execute_input": "2023-12-21T00:21:37.847514Z",
     "iopub.status.busy": "2023-12-21T00:21:37.846799Z",
     "iopub.status.idle": "2023-12-21T00:21:38.279701Z",
     "shell.execute_reply": "2023-12-21T00:21:38.278472Z"
    },
    "papermill": {
     "duration": 0.44933,
     "end_time": "2023-12-21T00:21:38.282712",
     "exception": false,
     "start_time": "2023-12-21T00:21:37.833382",
     "status": "completed"
    },
    "tags": []
   },
   "outputs": [],
   "source": [
    "import pandas as pd\n",
    "import numpy as np\n",
    "import matplotlib.pyplot as plt\n",
    "plt.style.use('ggplot')\n",
    "from sympy.combinatorics import Permutation\n",
    "from pprint import pprint"
   ]
  },
  {
   "cell_type": "markdown",
   "id": "759c06ca",
   "metadata": {
    "papermill": {
     "duration": 0.011571,
     "end_time": "2023-12-21T00:21:38.306539",
     "exception": false,
     "start_time": "2023-12-21T00:21:38.294968",
     "status": "completed"
    },
    "tags": []
   },
   "source": [
    "## Understanding the Data"
   ]
  },
  {
   "cell_type": "code",
   "execution_count": 2,
   "id": "7b44d145",
   "metadata": {
    "execution": {
     "iopub.execute_input": "2023-12-21T00:21:38.332292Z",
     "iopub.status.busy": "2023-12-21T00:21:38.331722Z",
     "iopub.status.idle": "2023-12-21T00:21:38.558640Z",
     "shell.execute_reply": "2023-12-21T00:21:38.557700Z"
    },
    "papermill": {
     "duration": 0.242858,
     "end_time": "2023-12-21T00:21:38.561355",
     "exception": false,
     "start_time": "2023-12-21T00:21:38.318497",
     "status": "completed"
    },
    "tags": []
   },
   "outputs": [],
   "source": [
    "info = pd.read_csv('puzzle_info.csv')\n",
    "puzzles = pd.read_csv('puzzles.csv')\n",
    "ss = pd.read_csv('sample_submission.csv')"
   ]
  },
  {
   "cell_type": "code",
   "execution_count": 12,
   "id": "ce6ab37c",
   "metadata": {
    "execution": {
     "iopub.execute_input": "2023-12-21T00:21:39.574216Z",
     "iopub.status.busy": "2023-12-21T00:21:39.573645Z",
     "iopub.status.idle": "2023-12-21T00:21:39.586648Z",
     "shell.execute_reply": "2023-12-21T00:21:39.585556Z"
    },
    "papermill": {
     "duration": 0.031186,
     "end_time": "2023-12-21T00:21:39.589044",
     "exception": false,
     "start_time": "2023-12-21T00:21:39.557858",
     "status": "completed"
    },
    "tags": []
   },
   "outputs": [
    {
     "data": {
      "text/plain": [
       "{'f0': Permutation(23)(2, 19, 21, 8)(3, 17, 20, 10)(4, 6, 7, 5),\n",
       " 'f1': Permutation(0, 18, 23, 9)(1, 16, 22, 11)(12, 13, 15, 14),\n",
       " 'r0': Permutation(1, 5, 21, 14)(3, 7, 23, 12)(8, 10, 11, 9),\n",
       " 'r1': Permutation(23)(0, 4, 20, 15)(2, 6, 22, 13)(16, 17, 19, 18),\n",
       " 'd0': Permutation(6, 18, 14, 10)(7, 19, 15, 11)(20, 22, 23, 21),\n",
       " 'd1': Permutation(23)(0, 1, 3, 2)(4, 16, 12, 8)(5, 17, 13, 9),\n",
       " '-f0': Permutation(23)(2, 8, 21, 19)(3, 10, 20, 17)(4, 5, 7, 6),\n",
       " '-f1': Permutation(0, 9, 23, 18)(1, 11, 22, 16)(12, 14, 15, 13),\n",
       " '-r0': Permutation(1, 14, 21, 5)(3, 12, 23, 7)(8, 9, 11, 10),\n",
       " '-r1': Permutation(23)(0, 15, 20, 4)(2, 13, 22, 6)(16, 18, 19, 17),\n",
       " '-d0': Permutation(6, 10, 14, 18)(7, 11, 15, 19)(20, 21, 23, 22),\n",
       " '-d1': Permutation(23)(0, 2, 3, 1)(4, 8, 12, 16)(5, 9, 13, 17)}"
      ]
     },
     "execution_count": 12,
     "metadata": {},
     "output_type": "execute_result"
    }
   ],
   "source": [
    "example = puzzles.loc[1]\n",
    "\n",
    "sol = example['solution_state']\n",
    "init = example['initial_state']\n",
    "\n",
    "moves = info.loc[info['puzzle_type'] == example['puzzle_type']]['allowed_moves'].values[0]\n",
    "moves = eval(moves)\n",
    "\n",
    "# Convert to numpy array\n",
    "init = np.array(init.split(';'))\n",
    "sol = np.array(sol.split(';'))\n",
    "\n",
    "# Add inverse moves and convert to permutations.\n",
    "moves_ = moves.copy()\n",
    "for m, d in moves_.items():\n",
    "        moves[f'-{m}'] = Permutation(d) ** -1\n",
    "        moves[m] = Permutation(d) \n",
    "        \n",
    "moves"
   ]
  },
  {
   "cell_type": "markdown",
   "id": "7f13edb5",
   "metadata": {
    "papermill": {
     "duration": 0.015979,
     "end_time": "2023-12-21T00:21:40.223047",
     "exception": false,
     "start_time": "2023-12-21T00:21:40.207068",
     "status": "completed"
    },
    "tags": []
   },
   "source": [
    "# Solver"
   ]
  },
  {
   "cell_type": "code",
   "execution_count": 4,
   "id": "de10bc3d",
   "metadata": {},
   "outputs": [],
   "source": [
    "def apply_move(solution,state):\n",
    "    for move in solution:\n",
    "        state=moves[move](state)\n",
    "    return state"
   ]
  },
  {
   "cell_type": "code",
   "execution_count": 5,
   "id": "d876ef7f",
   "metadata": {
    "execution": {
     "iopub.execute_input": "2023-12-21T00:21:40.258073Z",
     "iopub.status.busy": "2023-12-21T00:21:40.256796Z",
     "iopub.status.idle": "2023-12-21T00:21:40.263433Z",
     "shell.execute_reply": "2023-12-21T00:21:40.262614Z"
    },
    "papermill": {
     "duration": 0.02607,
     "end_time": "2023-12-21T00:21:40.265754",
     "exception": false,
     "start_time": "2023-12-21T00:21:40.239684",
     "status": "completed"
    },
    "tags": []
   },
   "outputs": [
    {
     "data": {
      "text/plain": [
       "['r1', '-f1']"
      ]
     },
     "execution_count": 5,
     "metadata": {},
     "output_type": "execute_result"
    }
   ],
   "source": [
    "# Sample solution if you want\n",
    "ss_moves = ss.loc[0]['moves'].split('.')\n",
    "ss_moves"
   ]
  },
  {
   "cell_type": "code",
   "execution_count": 6,
   "id": "61a7d653",
   "metadata": {},
   "outputs": [
    {
     "data": {
      "text/plain": [
       "['A',\n",
       " 'A',\n",
       " 'A',\n",
       " 'A',\n",
       " 'B',\n",
       " 'B',\n",
       " 'B',\n",
       " 'B',\n",
       " 'C',\n",
       " 'C',\n",
       " 'C',\n",
       " 'C',\n",
       " 'D',\n",
       " 'D',\n",
       " 'D',\n",
       " 'D',\n",
       " 'E',\n",
       " 'E',\n",
       " 'E',\n",
       " 'E',\n",
       " 'F',\n",
       " 'F',\n",
       " 'F',\n",
       " 'F']"
      ]
     },
     "execution_count": 6,
     "metadata": {},
     "output_type": "execute_result"
    }
   ],
   "source": [
    "cube = init.copy()\n",
    "cube = apply_move(ss_moves,cube)\n",
    "cube"
   ]
  },
  {
   "cell_type": "code",
   "execution_count": 59,
   "id": "508565af",
   "metadata": {
    "execution": {
     "iopub.execute_input": "2023-12-21T00:21:40.331252Z",
     "iopub.status.busy": "2023-12-21T00:21:40.330416Z",
     "iopub.status.idle": "2023-12-21T00:21:40.377479Z",
     "shell.execute_reply": "2023-12-21T00:21:40.376321Z"
    },
    "papermill": {
     "duration": 0.067286,
     "end_time": "2023-12-21T00:21:40.380507",
     "exception": false,
     "start_time": "2023-12-21T00:21:40.313221",
     "status": "completed"
    },
    "tags": []
   },
   "outputs": [
    {
     "name": "stdout",
     "output_type": "stream",
     "text": [
      "Id 0: Solved state ['A', 'A', 'A', 'A', 'B', 'B', 'B', 'B', 'C', 'C', 'C', 'C', 'D', 'D', 'D', 'D', 'E', 'E', 'E', 'E', 'F', 'F', 'F', 'F']\n",
      "Id 1: Solved state ['A', 'A', 'A', 'A', 'B', 'B', 'B', 'B', 'C', 'C', 'C', 'C', 'D', 'D', 'D', 'D', 'E', 'E', 'E', 'E', 'F', 'F', 'F', 'F']\n",
      "Id 2: Solved state ['A', 'A', 'A', 'A', 'B', 'B', 'B', 'B', 'C', 'C', 'C', 'C', 'D', 'D', 'D', 'D', 'E', 'E', 'E', 'E', 'F', 'F', 'F', 'F']\n",
      "Id 3: Solved state ['A', 'A', 'A', 'A', 'B', 'B', 'B', 'B', 'C', 'C', 'C', 'C', 'D', 'D', 'D', 'D', 'E', 'E', 'E', 'E', 'F', 'F', 'F', 'F']\n",
      "Id 4: Solved state ['A', 'A', 'A', 'A', 'B', 'B', 'B', 'B', 'C', 'C', 'C', 'C', 'D', 'D', 'D', 'D', 'E', 'E', 'E', 'E', 'F', 'F', 'F', 'F']\n",
      "Id 5: Solved state ['A', 'A', 'A', 'A', 'B', 'B', 'B', 'B', 'C', 'C', 'C', 'C', 'D', 'D', 'D', 'D', 'E', 'E', 'E', 'E', 'F', 'F', 'F', 'F']\n",
      "Id 6: Solved state ['A', 'A', 'A', 'A', 'B', 'B', 'B', 'B', 'C', 'C', 'C', 'C', 'D', 'D', 'D', 'D', 'E', 'E', 'E', 'E', 'F', 'F', 'F', 'F']\n",
      "Id 7: Solved state ['A', 'A', 'A', 'A', 'B', 'B', 'B', 'B', 'C', 'C', 'C', 'C', 'D', 'D', 'D', 'D', 'E', 'E', 'E', 'E', 'F', 'F', 'F', 'F']\n",
      "Id 8: Solved state ['A', 'A', 'A', 'A', 'B', 'B', 'B', 'B', 'C', 'C', 'C', 'C', 'D', 'D', 'D', 'D', 'E', 'E', 'E', 'E', 'F', 'F', 'F', 'F']\n",
      "Id 9: Solved state ['A', 'A', 'A', 'A', 'B', 'B', 'B', 'B', 'C', 'C', 'C', 'C', 'D', 'D', 'D', 'D', 'E', 'E', 'E', 'E', 'F', 'F', 'F', 'F']\n",
      "Id 10: Solved state ['A', 'A', 'A', 'A', 'B', 'B', 'B', 'B', 'C', 'C', 'C', 'C', 'D', 'D', 'D', 'D', 'E', 'E', 'E', 'E', 'F', 'F', 'F', 'F']\n",
      "Id 11: Solved state ['A', 'A', 'A', 'A', 'B', 'B', 'B', 'B', 'C', 'C', 'C', 'C', 'D', 'D', 'D', 'D', 'E', 'E', 'E', 'E', 'F', 'F', 'F', 'F']\n",
      "Id 12: Solved state ['A', 'A', 'A', 'A', 'B', 'B', 'B', 'B', 'C', 'C', 'C', 'C', 'D', 'D', 'D', 'D', 'E', 'E', 'E', 'E', 'F', 'F', 'F', 'F']\n",
      "Id 13: Solved state ['A', 'A', 'A', 'A', 'B', 'B', 'B', 'B', 'C', 'C', 'C', 'C', 'D', 'D', 'D', 'D', 'E', 'E', 'E', 'E', 'F', 'F', 'F', 'F']\n",
      "Id 14: Solved state ['A', 'A', 'A', 'A', 'B', 'B', 'B', 'B', 'C', 'C', 'C', 'C', 'D', 'D', 'D', 'D', 'E', 'E', 'E', 'E', 'F', 'F', 'F', 'F']\n",
      "Id 15: Solved state ['A', 'A', 'A', 'A', 'B', 'B', 'B', 'B', 'C', 'C', 'C', 'C', 'D', 'D', 'D', 'D', 'E', 'E', 'E', 'E', 'F', 'F', 'F', 'F']\n",
      "Id 16: Solved state ['A', 'A', 'A', 'A', 'B', 'B', 'B', 'B', 'C', 'C', 'C', 'C', 'D', 'D', 'D', 'D', 'E', 'E', 'E', 'E', 'F', 'F', 'F', 'F']\n",
      "Id 17: Solved state ['A', 'A', 'A', 'A', 'B', 'B', 'B', 'B', 'C', 'C', 'C', 'C', 'D', 'D', 'D', 'D', 'E', 'E', 'E', 'E', 'F', 'F', 'F', 'F']\n",
      "Id 18: Solved state ['A', 'A', 'A', 'A', 'B', 'B', 'B', 'B', 'C', 'C', 'C', 'C', 'D', 'D', 'D', 'D', 'E', 'E', 'E', 'E', 'F', 'F', 'F', 'F']\n",
      "Id 19: Solved state ['A', 'A', 'A', 'A', 'B', 'B', 'B', 'B', 'C', 'C', 'C', 'C', 'D', 'D', 'D', 'D', 'E', 'E', 'E', 'E', 'F', 'F', 'F', 'F']\n",
      "Id 20: Solved state ['N0', 'N1', 'N2', 'N3', 'N4', 'N5', 'N6', 'N7', 'N8', 'N9', 'N10', 'N11', 'N12', 'N13', 'N14', 'N15', 'N16', 'N17', 'N18', 'N19', 'N20', 'N21', 'N22', 'N23']\n",
      "Id 21: Solved state ['N0', 'N1', 'N2', 'N3', 'N4', 'N5', 'N6', 'N7', 'N8', 'N9', 'N10', 'N11', 'N12', 'N13', 'N14', 'N15', 'N16', 'N17', 'N18', 'N19', 'N20', 'N21', 'N22', 'N23']\n",
      "Id 22: Solved state ['N0', 'N1', 'N2', 'N3', 'N4', 'N5', 'N6', 'N7', 'N8', 'N9', 'N10', 'N11', 'N12', 'N13', 'N14', 'N15', 'N16', 'N17', 'N18', 'N19', 'N20', 'N21', 'N22', 'N23']\n",
      "Id 23: Solved state ['N0', 'N1', 'N2', 'N3', 'N4', 'N5', 'N6', 'N7', 'N8', 'N9', 'N10', 'N11', 'N12', 'N13', 'N14', 'N15', 'N16', 'N17', 'N18', 'N19', 'N20', 'N21', 'N22', 'N23']\n",
      "Id 24: Solved state ['N0', 'N1', 'N2', 'N3', 'N4', 'N5', 'N6', 'N7', 'N8', 'N9', 'N10', 'N11', 'N12', 'N13', 'N14', 'N15', 'N16', 'N17', 'N18', 'N19', 'N20', 'N21', 'N22', 'N23']\n",
      "Id 25: Solved state ['A', 'B', 'A', 'B', 'B', 'C', 'B', 'C', 'C', 'D', 'C', 'D', 'D', 'E', 'D', 'E', 'E', 'F', 'E', 'F', 'F', 'A', 'F', 'A']\n",
      "Id 26: Solved state ['A', 'B', 'A', 'B', 'B', 'C', 'B', 'C', 'C', 'D', 'C', 'D', 'D', 'E', 'D', 'E', 'E', 'F', 'E', 'F', 'F', 'A', 'F', 'A']\n",
      "Id 27: Solved state ['A', 'B', 'A', 'B', 'B', 'C', 'B', 'C', 'C', 'D', 'C', 'D', 'D', 'E', 'D', 'E', 'E', 'F', 'E', 'F', 'F', 'A', 'F', 'A']\n",
      "Id 28: Solved state ['A', 'B', 'A', 'B', 'B', 'C', 'B', 'C', 'C', 'D', 'C', 'D', 'D', 'E', 'D', 'E', 'E', 'F', 'E', 'F', 'F', 'A', 'F', 'A']\n",
      "Id 29: Solved state ['A', 'B', 'A', 'B', 'B', 'C', 'B', 'C', 'C', 'D', 'C', 'D', 'D', 'E', 'D', 'E', 'E', 'F', 'E', 'F', 'F', 'A', 'F', 'A']\n"
     ]
    }
   ],
   "source": [
    "def apply_move(solution,state):\n",
    "    for move in solution:\n",
    "        state=moves[move](state)\n",
    "    return state\n",
    "\n",
    "for i , d in puzzles.query('puzzle_type == \"cube_2/2/2\"').iterrows():\n",
    "    init = np.array(d['initial_state'].split(';'))\n",
    "    ss_moves = ss.loc[ss['id'] == d['id']]['moves'].values[0]\n",
    "    ss_moves = ss_moves.split('.')\n",
    "    solved_cube = apply_move(ss_moves,init)\n",
    "    print(f\"Id {d['id']}: Solved state {solved_cube}\")\n",
    "    assert ';'.join(solved_cube) == d['solution_state']"
   ]
  },
  {
   "cell_type": "markdown",
   "id": "e141e002",
   "metadata": {
    "papermill": {
     "duration": 0.017609,
     "end_time": "2023-12-21T00:21:40.728508",
     "exception": false,
     "start_time": "2023-12-21T00:21:40.710899",
     "status": "completed"
    },
    "tags": []
   },
   "source": [
    "# Brute Force Optimization"
   ]
  },
  {
   "cell_type": "code",
   "execution_count": null,
   "id": "df397bd4",
   "metadata": {},
   "outputs": [],
   "source": [
    "from queue import Queue\n",
    "\n",
    "def find_solution(initial_state, solution_state, moves):\n",
    "    # Function to check if the state matches the solution state\n",
    "    def is_solution(state):\n",
    "        return np.array_equal(state, solution_state)\n",
    "\n",
    "    # Start with the initial state\n",
    "    q = Queue()\n",
    "    q.put((initial_state, []))\n",
    "    visited = set()\n",
    "\n",
    "    while not q.empty():\n",
    "        current_state, current_solution = q.get()\n",
    "\n",
    "        if is_solution(current_state):\n",
    "            return current_solution\n",
    "\n",
    "        for move_name, move in moves.items():\n",
    "            new_state = move(current_state.copy())\n",
    "            new_state_tuple = tuple(new_state)\n",
    "\n",
    "            if new_state_tuple not in visited:\n",
    "                visited.add(new_state_tuple)\n",
    "                q.put((new_state, current_solution + [move_name]))\n",
    "\n",
    "    return None  # Return None if no solution is found"
   ]
  },
  {
   "cell_type": "markdown",
   "id": "dceafc3f",
   "metadata": {},
   "source": [
    "# For 2x2 cubes"
   ]
  },
  {
   "cell_type": "code",
   "execution_count": 82,
   "id": "86295a62",
   "metadata": {},
   "outputs": [],
   "source": [
    "solutions={}"
   ]
  },
  {
   "cell_type": "code",
   "execution_count": 91,
   "id": "1e44272f",
   "metadata": {},
   "outputs": [
    {
     "name": "stdout",
     "output_type": "stream",
     "text": [
      "'Solution id: 3, Solution moves:['f1', 'r0', 'f1', 'r0', 'd1', 'f1', 'r0', 'd1', 'r1', '-f0']\n"
     ]
    }
   ],
   "source": [
    "for id,row in puzzles.loc[3:29].iterrows():\n",
    "    puzzle_id=id\n",
    "    initial_state = np.array(row.initial_state.split(';'))\n",
    "    solution_state = np.array(row.solution_state.split(';'))\n",
    "    moves = moves \n",
    "\n",
    "    \n",
    "\n",
    "    solution_moves = find_solution(initial_state, solution_state, moves)\n",
    "    print(f\"'Solution id: {id}, Solution moves:{solution_moves}\")\n",
    "    solutions[id]= solution_moves\n",
    "\n",
    "\n",
    "    "
   ]
  },
  {
   "cell_type": "code",
   "execution_count": null,
   "id": "990be034",
   "metadata": {},
   "outputs": [],
   "source": []
  },
  {
   "cell_type": "code",
   "execution_count": 85,
   "id": "c319c080",
   "metadata": {},
   "outputs": [
    {
     "data": {
      "text/plain": [
       "{0: ['r1', '-f1'],\n",
       " 1: ['f0', 'r1', 'f1', 'd0', 'd0', 'f1', 'd1', '-r1', '-d1'],\n",
       " 2: ['f0',\n",
       "  'f0',\n",
       "  'r0',\n",
       "  'r0',\n",
       "  'f1',\n",
       "  'd0',\n",
       "  '-f1',\n",
       "  '-d1',\n",
       "  '-f0',\n",
       "  '-d0',\n",
       "  '-f1',\n",
       "  '-r1']}"
      ]
     },
     "execution_count": 85,
     "metadata": {},
     "output_type": "execute_result"
    }
   ],
   "source": [
    "solutions"
   ]
  },
  {
   "cell_type": "code",
   "execution_count": 79,
   "id": "95fb5a05",
   "metadata": {},
   "outputs": [
    {
     "data": {
      "text/plain": [
       "array(['A', 'A', 'A', 'A', 'B', 'B', 'B', 'B', 'C', 'C', 'C', 'C', 'D',\n",
       "       'D', 'D', 'D', 'E', 'E', 'E', 'E', 'F', 'F', 'F', 'F'], dtype='<U1')"
      ]
     },
     "execution_count": 79,
     "metadata": {},
     "output_type": "execute_result"
    }
   ],
   "source": [
    "solution_state"
   ]
  },
  {
   "cell_type": "code",
   "execution_count": 69,
   "id": "9ce60cff",
   "metadata": {},
   "outputs": [
    {
     "data": {
      "text/plain": [
       "1"
      ]
     },
     "execution_count": 69,
     "metadata": {},
     "output_type": "execute_result"
    }
   ],
   "source": [
    "puzzle_id"
   ]
  },
  {
   "cell_type": "code",
   "execution_count": 45,
   "id": "007c7457",
   "metadata": {},
   "outputs": [
    {
     "data": {
      "text/plain": [
       "{397: ['f0', 'r1', 'f1', 'd0', 'd0', 'f1', 'd1', '-r1', '-d1']}"
      ]
     },
     "execution_count": 45,
     "metadata": {},
     "output_type": "execute_result"
    }
   ],
   "source": [
    "solutions"
   ]
  },
  {
   "cell_type": "code",
   "execution_count": 21,
   "id": "6c8a46d6",
   "metadata": {},
   "outputs": [
    {
     "data": {
      "text/html": [
       "<div>\n",
       "<style scoped>\n",
       "    .dataframe tbody tr th:only-of-type {\n",
       "        vertical-align: middle;\n",
       "    }\n",
       "\n",
       "    .dataframe tbody tr th {\n",
       "        vertical-align: top;\n",
       "    }\n",
       "\n",
       "    .dataframe thead th {\n",
       "        text-align: right;\n",
       "    }\n",
       "</style>\n",
       "<table border=\"1\" class=\"dataframe\">\n",
       "  <thead>\n",
       "    <tr style=\"text-align: right;\">\n",
       "      <th></th>\n",
       "      <th>id</th>\n",
       "      <th>puzzle_type</th>\n",
       "      <th>solution_state</th>\n",
       "      <th>initial_state</th>\n",
       "      <th>num_wildcards</th>\n",
       "    </tr>\n",
       "  </thead>\n",
       "  <tbody>\n",
       "    <tr>\n",
       "      <th>0</th>\n",
       "      <td>0</td>\n",
       "      <td>cube_2/2/2</td>\n",
       "      <td>A;A;A;A;B;B;B;B;C;C;C;C;D;D;D;D;E;E;E;E;F;F;F;F</td>\n",
       "      <td>D;E;D;A;E;B;A;B;C;A;C;A;D;C;D;F;F;F;E;E;B;F;B;C</td>\n",
       "      <td>0</td>\n",
       "    </tr>\n",
       "    <tr>\n",
       "      <th>1</th>\n",
       "      <td>1</td>\n",
       "      <td>cube_2/2/2</td>\n",
       "      <td>A;A;A;A;B;B;B;B;C;C;C;C;D;D;D;D;E;E;E;E;F;F;F;F</td>\n",
       "      <td>D;E;C;B;B;E;F;A;F;D;B;F;F;E;B;D;A;A;C;D;C;E;A;C</td>\n",
       "      <td>0</td>\n",
       "    </tr>\n",
       "    <tr>\n",
       "      <th>2</th>\n",
       "      <td>2</td>\n",
       "      <td>cube_2/2/2</td>\n",
       "      <td>A;A;A;A;B;B;B;B;C;C;C;C;D;D;D;D;E;E;E;E;F;F;F;F</td>\n",
       "      <td>E;F;C;C;F;A;D;D;B;B;A;F;E;B;C;A;A;B;D;F;E;E;C;D</td>\n",
       "      <td>0</td>\n",
       "    </tr>\n",
       "    <tr>\n",
       "      <th>3</th>\n",
       "      <td>3</td>\n",
       "      <td>cube_2/2/2</td>\n",
       "      <td>A;A;A;A;B;B;B;B;C;C;C;C;D;D;D;D;E;E;E;E;F;F;F;F</td>\n",
       "      <td>A;C;E;C;F;D;E;D;A;A;F;A;B;D;B;F;E;D;B;F;B;C;C;E</td>\n",
       "      <td>0</td>\n",
       "    </tr>\n",
       "    <tr>\n",
       "      <th>4</th>\n",
       "      <td>4</td>\n",
       "      <td>cube_2/2/2</td>\n",
       "      <td>A;A;A;A;B;B;B;B;C;C;C;C;D;D;D;D;E;E;E;E;F;F;F;F</td>\n",
       "      <td>E;D;E;D;A;E;F;B;A;C;F;D;F;D;C;A;F;B;C;C;B;E;B;A</td>\n",
       "      <td>0</td>\n",
       "    </tr>\n",
       "    <tr>\n",
       "      <th>...</th>\n",
       "      <td>...</td>\n",
       "      <td>...</td>\n",
       "      <td>...</td>\n",
       "      <td>...</td>\n",
       "      <td>...</td>\n",
       "    </tr>\n",
       "    <tr>\n",
       "      <th>393</th>\n",
       "      <td>393</td>\n",
       "      <td>globe_3/33</td>\n",
       "      <td>A;A;A;A;A;A;C;C;C;C;C;C;E;E;E;E;E;E;G;G;G;G;G;...</td>\n",
       "      <td>D;D;L;A;P;E;R;U;U;C;S;R;J;B;E;G;O;J;F;Q;R;E;D;...</td>\n",
       "      <td>0</td>\n",
       "    </tr>\n",
       "    <tr>\n",
       "      <th>394</th>\n",
       "      <td>394</td>\n",
       "      <td>globe_3/33</td>\n",
       "      <td>A;A;A;A;A;A;C;C;C;C;C;C;E;E;E;E;E;E;G;G;G;G;G;...</td>\n",
       "      <td>V;L;N;G;B;V;R;E;H;A;K;S;I;N;G;E;V;C;L;G;S;M;P;...</td>\n",
       "      <td>0</td>\n",
       "    </tr>\n",
       "    <tr>\n",
       "      <th>395</th>\n",
       "      <td>395</td>\n",
       "      <td>globe_3/33</td>\n",
       "      <td>N0;N1;N2;N3;N4;N5;N6;N7;N8;N9;N10;N11;N12;N13;...</td>\n",
       "      <td>N12;N219;N227;N198;N4;N208;N214;N245;N56;N55;N...</td>\n",
       "      <td>0</td>\n",
       "    </tr>\n",
       "    <tr>\n",
       "      <th>396</th>\n",
       "      <td>396</td>\n",
       "      <td>globe_8/25</td>\n",
       "      <td>A;A;A;A;A;D;D;D;D;D;G;G;G;G;G;J;J;J;J;J;M;M;M;...</td>\n",
       "      <td>V;P;F;L;P;X;O;A;J;b;V;Y;D;Y;C;X;J;F;U;G;d;L;b;...</td>\n",
       "      <td>0</td>\n",
       "    </tr>\n",
       "    <tr>\n",
       "      <th>397</th>\n",
       "      <td>397</td>\n",
       "      <td>globe_8/25</td>\n",
       "      <td>A;A;A;A;A;D;D;D;D;D;G;G;G;G;G;J;J;J;J;J;M;M;M;...</td>\n",
       "      <td>V;O;a;I;a;F;C;D;C;d;I;O;U;F;F;G;L;I;Y;Y;X;X;a;...</td>\n",
       "      <td>0</td>\n",
       "    </tr>\n",
       "  </tbody>\n",
       "</table>\n",
       "<p>398 rows × 5 columns</p>\n",
       "</div>"
      ],
      "text/plain": [
       "      id puzzle_type                                     solution_state   \n",
       "0      0  cube_2/2/2    A;A;A;A;B;B;B;B;C;C;C;C;D;D;D;D;E;E;E;E;F;F;F;F  \\\n",
       "1      1  cube_2/2/2    A;A;A;A;B;B;B;B;C;C;C;C;D;D;D;D;E;E;E;E;F;F;F;F   \n",
       "2      2  cube_2/2/2    A;A;A;A;B;B;B;B;C;C;C;C;D;D;D;D;E;E;E;E;F;F;F;F   \n",
       "3      3  cube_2/2/2    A;A;A;A;B;B;B;B;C;C;C;C;D;D;D;D;E;E;E;E;F;F;F;F   \n",
       "4      4  cube_2/2/2    A;A;A;A;B;B;B;B;C;C;C;C;D;D;D;D;E;E;E;E;F;F;F;F   \n",
       "..   ...         ...                                                ...   \n",
       "393  393  globe_3/33  A;A;A;A;A;A;C;C;C;C;C;C;E;E;E;E;E;E;G;G;G;G;G;...   \n",
       "394  394  globe_3/33  A;A;A;A;A;A;C;C;C;C;C;C;E;E;E;E;E;E;G;G;G;G;G;...   \n",
       "395  395  globe_3/33  N0;N1;N2;N3;N4;N5;N6;N7;N8;N9;N10;N11;N12;N13;...   \n",
       "396  396  globe_8/25  A;A;A;A;A;D;D;D;D;D;G;G;G;G;G;J;J;J;J;J;M;M;M;...   \n",
       "397  397  globe_8/25  A;A;A;A;A;D;D;D;D;D;G;G;G;G;G;J;J;J;J;J;M;M;M;...   \n",
       "\n",
       "                                         initial_state  num_wildcards  \n",
       "0      D;E;D;A;E;B;A;B;C;A;C;A;D;C;D;F;F;F;E;E;B;F;B;C              0  \n",
       "1      D;E;C;B;B;E;F;A;F;D;B;F;F;E;B;D;A;A;C;D;C;E;A;C              0  \n",
       "2      E;F;C;C;F;A;D;D;B;B;A;F;E;B;C;A;A;B;D;F;E;E;C;D              0  \n",
       "3      A;C;E;C;F;D;E;D;A;A;F;A;B;D;B;F;E;D;B;F;B;C;C;E              0  \n",
       "4      E;D;E;D;A;E;F;B;A;C;F;D;F;D;C;A;F;B;C;C;B;E;B;A              0  \n",
       "..                                                 ...            ...  \n",
       "393  D;D;L;A;P;E;R;U;U;C;S;R;J;B;E;G;O;J;F;Q;R;E;D;...              0  \n",
       "394  V;L;N;G;B;V;R;E;H;A;K;S;I;N;G;E;V;C;L;G;S;M;P;...              0  \n",
       "395  N12;N219;N227;N198;N4;N208;N214;N245;N56;N55;N...              0  \n",
       "396  V;P;F;L;P;X;O;A;J;b;V;Y;D;Y;C;X;J;F;U;G;d;L;b;...              0  \n",
       "397  V;O;a;I;a;F;C;D;C;d;I;O;U;F;F;G;L;I;Y;Y;X;X;a;...              0  \n",
       "\n",
       "[398 rows x 5 columns]"
      ]
     },
     "execution_count": 21,
     "metadata": {},
     "output_type": "execute_result"
    }
   ],
   "source": [
    "puzzles"
   ]
  },
  {
   "cell_type": "code",
   "execution_count": 11,
   "id": "c8903258",
   "metadata": {},
   "outputs": [
    {
     "data": {
      "text/plain": [
       "array(['A', 'A', 'A', 'A', 'B', 'B', 'B', 'B', 'C', 'C', 'C', 'C', 'D',\n",
       "       'D', 'D', 'D', 'E', 'E', 'E', 'E', 'F', 'F', 'F', 'F'], dtype='<U1')"
      ]
     },
     "execution_count": 11,
     "metadata": {},
     "output_type": "execute_result"
    }
   ],
   "source": [
    "sol"
   ]
  },
  {
   "cell_type": "code",
   "execution_count": 10,
   "id": "558d6c4c",
   "metadata": {},
   "outputs": [
    {
     "data": {
      "text/html": [
       "<div>\n",
       "<style scoped>\n",
       "    .dataframe tbody tr th:only-of-type {\n",
       "        vertical-align: middle;\n",
       "    }\n",
       "\n",
       "    .dataframe tbody tr th {\n",
       "        vertical-align: top;\n",
       "    }\n",
       "\n",
       "    .dataframe thead th {\n",
       "        text-align: right;\n",
       "    }\n",
       "</style>\n",
       "<table border=\"1\" class=\"dataframe\">\n",
       "  <thead>\n",
       "    <tr style=\"text-align: right;\">\n",
       "      <th></th>\n",
       "      <th>id</th>\n",
       "      <th>puzzle_type</th>\n",
       "      <th>solution_state</th>\n",
       "      <th>initial_state</th>\n",
       "      <th>num_wildcards</th>\n",
       "    </tr>\n",
       "  </thead>\n",
       "  <tbody>\n",
       "    <tr>\n",
       "      <th>0</th>\n",
       "      <td>0</td>\n",
       "      <td>cube_2/2/2</td>\n",
       "      <td>A;A;A;A;B;B;B;B;C;C;C;C;D;D;D;D;E;E;E;E;F;F;F;F</td>\n",
       "      <td>D;E;D;A;E;B;A;B;C;A;C;A;D;C;D;F;F;F;E;E;B;F;B;C</td>\n",
       "      <td>0</td>\n",
       "    </tr>\n",
       "    <tr>\n",
       "      <th>1</th>\n",
       "      <td>1</td>\n",
       "      <td>cube_2/2/2</td>\n",
       "      <td>A;A;A;A;B;B;B;B;C;C;C;C;D;D;D;D;E;E;E;E;F;F;F;F</td>\n",
       "      <td>D;E;C;B;B;E;F;A;F;D;B;F;F;E;B;D;A;A;C;D;C;E;A;C</td>\n",
       "      <td>0</td>\n",
       "    </tr>\n",
       "    <tr>\n",
       "      <th>2</th>\n",
       "      <td>2</td>\n",
       "      <td>cube_2/2/2</td>\n",
       "      <td>A;A;A;A;B;B;B;B;C;C;C;C;D;D;D;D;E;E;E;E;F;F;F;F</td>\n",
       "      <td>E;F;C;C;F;A;D;D;B;B;A;F;E;B;C;A;A;B;D;F;E;E;C;D</td>\n",
       "      <td>0</td>\n",
       "    </tr>\n",
       "    <tr>\n",
       "      <th>3</th>\n",
       "      <td>3</td>\n",
       "      <td>cube_2/2/2</td>\n",
       "      <td>A;A;A;A;B;B;B;B;C;C;C;C;D;D;D;D;E;E;E;E;F;F;F;F</td>\n",
       "      <td>A;C;E;C;F;D;E;D;A;A;F;A;B;D;B;F;E;D;B;F;B;C;C;E</td>\n",
       "      <td>0</td>\n",
       "    </tr>\n",
       "    <tr>\n",
       "      <th>4</th>\n",
       "      <td>4</td>\n",
       "      <td>cube_2/2/2</td>\n",
       "      <td>A;A;A;A;B;B;B;B;C;C;C;C;D;D;D;D;E;E;E;E;F;F;F;F</td>\n",
       "      <td>E;D;E;D;A;E;F;B;A;C;F;D;F;D;C;A;F;B;C;C;B;E;B;A</td>\n",
       "      <td>0</td>\n",
       "    </tr>\n",
       "    <tr>\n",
       "      <th>...</th>\n",
       "      <td>...</td>\n",
       "      <td>...</td>\n",
       "      <td>...</td>\n",
       "      <td>...</td>\n",
       "      <td>...</td>\n",
       "    </tr>\n",
       "    <tr>\n",
       "      <th>393</th>\n",
       "      <td>393</td>\n",
       "      <td>globe_3/33</td>\n",
       "      <td>A;A;A;A;A;A;C;C;C;C;C;C;E;E;E;E;E;E;G;G;G;G;G;...</td>\n",
       "      <td>D;D;L;A;P;E;R;U;U;C;S;R;J;B;E;G;O;J;F;Q;R;E;D;...</td>\n",
       "      <td>0</td>\n",
       "    </tr>\n",
       "    <tr>\n",
       "      <th>394</th>\n",
       "      <td>394</td>\n",
       "      <td>globe_3/33</td>\n",
       "      <td>A;A;A;A;A;A;C;C;C;C;C;C;E;E;E;E;E;E;G;G;G;G;G;...</td>\n",
       "      <td>V;L;N;G;B;V;R;E;H;A;K;S;I;N;G;E;V;C;L;G;S;M;P;...</td>\n",
       "      <td>0</td>\n",
       "    </tr>\n",
       "    <tr>\n",
       "      <th>395</th>\n",
       "      <td>395</td>\n",
       "      <td>globe_3/33</td>\n",
       "      <td>N0;N1;N2;N3;N4;N5;N6;N7;N8;N9;N10;N11;N12;N13;...</td>\n",
       "      <td>N12;N219;N227;N198;N4;N208;N214;N245;N56;N55;N...</td>\n",
       "      <td>0</td>\n",
       "    </tr>\n",
       "    <tr>\n",
       "      <th>396</th>\n",
       "      <td>396</td>\n",
       "      <td>globe_8/25</td>\n",
       "      <td>A;A;A;A;A;D;D;D;D;D;G;G;G;G;G;J;J;J;J;J;M;M;M;...</td>\n",
       "      <td>V;P;F;L;P;X;O;A;J;b;V;Y;D;Y;C;X;J;F;U;G;d;L;b;...</td>\n",
       "      <td>0</td>\n",
       "    </tr>\n",
       "    <tr>\n",
       "      <th>397</th>\n",
       "      <td>397</td>\n",
       "      <td>globe_8/25</td>\n",
       "      <td>A;A;A;A;A;D;D;D;D;D;G;G;G;G;G;J;J;J;J;J;M;M;M;...</td>\n",
       "      <td>V;O;a;I;a;F;C;D;C;d;I;O;U;F;F;G;L;I;Y;Y;X;X;a;...</td>\n",
       "      <td>0</td>\n",
       "    </tr>\n",
       "  </tbody>\n",
       "</table>\n",
       "<p>398 rows × 5 columns</p>\n",
       "</div>"
      ],
      "text/plain": [
       "      id puzzle_type                                     solution_state   \n",
       "0      0  cube_2/2/2    A;A;A;A;B;B;B;B;C;C;C;C;D;D;D;D;E;E;E;E;F;F;F;F  \\\n",
       "1      1  cube_2/2/2    A;A;A;A;B;B;B;B;C;C;C;C;D;D;D;D;E;E;E;E;F;F;F;F   \n",
       "2      2  cube_2/2/2    A;A;A;A;B;B;B;B;C;C;C;C;D;D;D;D;E;E;E;E;F;F;F;F   \n",
       "3      3  cube_2/2/2    A;A;A;A;B;B;B;B;C;C;C;C;D;D;D;D;E;E;E;E;F;F;F;F   \n",
       "4      4  cube_2/2/2    A;A;A;A;B;B;B;B;C;C;C;C;D;D;D;D;E;E;E;E;F;F;F;F   \n",
       "..   ...         ...                                                ...   \n",
       "393  393  globe_3/33  A;A;A;A;A;A;C;C;C;C;C;C;E;E;E;E;E;E;G;G;G;G;G;...   \n",
       "394  394  globe_3/33  A;A;A;A;A;A;C;C;C;C;C;C;E;E;E;E;E;E;G;G;G;G;G;...   \n",
       "395  395  globe_3/33  N0;N1;N2;N3;N4;N5;N6;N7;N8;N9;N10;N11;N12;N13;...   \n",
       "396  396  globe_8/25  A;A;A;A;A;D;D;D;D;D;G;G;G;G;G;J;J;J;J;J;M;M;M;...   \n",
       "397  397  globe_8/25  A;A;A;A;A;D;D;D;D;D;G;G;G;G;G;J;J;J;J;J;M;M;M;...   \n",
       "\n",
       "                                         initial_state  num_wildcards  \n",
       "0      D;E;D;A;E;B;A;B;C;A;C;A;D;C;D;F;F;F;E;E;B;F;B;C              0  \n",
       "1      D;E;C;B;B;E;F;A;F;D;B;F;F;E;B;D;A;A;C;D;C;E;A;C              0  \n",
       "2      E;F;C;C;F;A;D;D;B;B;A;F;E;B;C;A;A;B;D;F;E;E;C;D              0  \n",
       "3      A;C;E;C;F;D;E;D;A;A;F;A;B;D;B;F;E;D;B;F;B;C;C;E              0  \n",
       "4      E;D;E;D;A;E;F;B;A;C;F;D;F;D;C;A;F;B;C;C;B;E;B;A              0  \n",
       "..                                                 ...            ...  \n",
       "393  D;D;L;A;P;E;R;U;U;C;S;R;J;B;E;G;O;J;F;Q;R;E;D;...              0  \n",
       "394  V;L;N;G;B;V;R;E;H;A;K;S;I;N;G;E;V;C;L;G;S;M;P;...              0  \n",
       "395  N12;N219;N227;N198;N4;N208;N214;N245;N56;N55;N...              0  \n",
       "396  V;P;F;L;P;X;O;A;J;b;V;Y;D;Y;C;X;J;F;U;G;d;L;b;...              0  \n",
       "397  V;O;a;I;a;F;C;D;C;d;I;O;U;F;F;G;L;I;Y;Y;X;X;a;...              0  \n",
       "\n",
       "[398 rows x 5 columns]"
      ]
     },
     "execution_count": 10,
     "metadata": {},
     "output_type": "execute_result"
    }
   ],
   "source": [
    "puzzles"
   ]
  },
  {
   "cell_type": "code",
   "execution_count": 19,
   "id": "3abff2ba",
   "metadata": {},
   "outputs": [
    {
     "data": {
      "text/plain": [
       "['f1',\n",
       " 'd0',\n",
       " '-r0',\n",
       " '-f1',\n",
       " '-d0',\n",
       " '-f1',\n",
       " 'd0',\n",
       " '-r0',\n",
       " 'f0',\n",
       " '-f1',\n",
       " '-r0',\n",
       " 'f1',\n",
       " '-d1',\n",
       " '-r1',\n",
       " 'f1',\n",
       " 'd1',\n",
       " 'r0',\n",
       " 'f1',\n",
       " 'd1',\n",
       " 'd0',\n",
       " '-r0',\n",
       " '-d0',\n",
       " '-d0',\n",
       " 'f1',\n",
       " 'd1',\n",
       " 'd0',\n",
       " '-r0',\n",
       " '-d0',\n",
       " '-r0',\n",
       " '-d0',\n",
       " '-d0',\n",
       " 'r0',\n",
       " '-d0',\n",
       " '-f1',\n",
       " 'd0',\n",
       " '-r0',\n",
       " '-r1',\n",
       " 'f1',\n",
       " '-f0',\n",
       " 'f1',\n",
       " '-d1',\n",
       " 'd0',\n",
       " '-r0',\n",
       " '-d0',\n",
       " '-d0',\n",
       " 'f1',\n",
       " '-d1',\n",
       " 'r0',\n",
       " '-d0',\n",
       " '-d1',\n",
       " '-f1',\n",
       " '-r1',\n",
       " 'f1',\n",
       " 'd1',\n",
       " '-d0',\n",
       " '-f1',\n",
       " '-d0',\n",
       " '-d1',\n",
       " 'r0',\n",
       " '-d0',\n",
       " '-d1',\n",
       " '-f1',\n",
       " '-f0']"
      ]
     },
     "execution_count": 19,
     "metadata": {},
     "output_type": "execute_result"
    }
   ],
   "source": [
    "ss.iloc[1].moves.split('.')"
   ]
  }
 ],
 "metadata": {
  "kaggle": {
   "accelerator": "none",
   "dataSources": [
    {
     "databundleVersionId": 7323271,
     "sourceId": 65704,
     "sourceType": "competition"
    },
    {
     "sourceId": 155579868,
     "sourceType": "kernelVersion"
    }
   ],
   "dockerImageVersionId": 30626,
   "isGpuEnabled": false,
   "isInternetEnabled": true,
   "language": "python",
   "sourceType": "notebook"
  },
  "kernelspec": {
   "display_name": "Python 3",
   "language": "python",
   "name": "python3"
  },
  "language_info": {
   "codemirror_mode": {
    "name": "ipython",
    "version": 3
   },
   "file_extension": ".py",
   "mimetype": "text/x-python",
   "name": "python",
   "nbconvert_exporter": "python",
   "pygments_lexer": "ipython3",
   "version": "3.10.10"
  },
  "papermill": {
   "default_parameters": {},
   "duration": 7.248956,
   "end_time": "2023-12-21T00:21:41.492311",
   "environment_variables": {},
   "exception": null,
   "input_path": "__notebook__.ipynb",
   "output_path": "__notebook__.ipynb",
   "parameters": {},
   "start_time": "2023-12-21T00:21:34.243355",
   "version": "2.4.0"
  }
 },
 "nbformat": 4,
 "nbformat_minor": 5
}
