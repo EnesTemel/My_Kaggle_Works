{
 "cells": [
  {
   "cell_type": "markdown",
   "id": "5d88112a",
   "metadata": {
    "papermill": {
     "duration": 0.007226,
     "end_time": "2024-01-07T14:12:25.700353",
     "exception": false,
     "start_time": "2024-01-07T14:12:25.693127",
     "status": "completed"
    },
    "tags": []
   },
   "source": [
    "# Optimize any solution with group theory approach\n",
    "\n",
    "Let's say you have a sequence of moves leading to a solution. Can we make this sequense shorter without changing the solution? Yes, we can! There are moves that cancel each other or can be written shorter. \n",
    "\n",
    "Note: this notebook mostly focuses on cubes. Add your suggestions for other puzzles in the comments!\n",
    "\n",
    "## Cancelling moves\n",
    "If you move the side and than move it backwards, it changes nothing. `'r1.-r1.r0'` is equivalent to just `'r0'`. This is true for any puzzle\n",
    "\n",
    "## 4 repetitions of the same move for cubes\n",
    "If you move the same face of the cube 4 times, you change nothing. So, `'r1.r1..r1.r1.r0'` is equivalent to `'r0'`.\n",
    "\n",
    "## 3 repetitions of the same move for cubes is identical to 1 inverse move\n",
    "We can make the sequence a bit shorter by substituting 3 moves of the same face to 1 inverse move. For example, `'r1.r1.r1.r0'` is the same as `'-r1.r0'`\n",
    "\n",
    "There are move possible optimizations, but these are the most obvious. Let's discuss more in the comments!\n",
    "\n",
    "# Commutating sequences trick\n",
    "\n",
    "That's cool but what are the chances that we meet 4 copies of the same move in a row? As noted by @cl12102783 in [this notebook](https://www.kaggle.com/code/cl12102783/cancel-pairs-for-all-puzzles?scriptVersionId=158025216) and extended by @dinhttrandrise [here](https://www.kaggle.com/code/dinhttrandrise/added-cancel-opposite-pairs), we don't need to! Some moves *commute* meaning that it doesn't matter in which order you apply them. One obvious example, used in this notebook are moves of the same face. Each move does not affect axes of the other moves, they are \"parallel\". Think of 3x3 cube as an example: you can move the left and the right face in any order, the result won't change. So, `'r1.r0' == 'r0.r1'`. It is true for sequences of any length as far as they apply to the same face. `'r1.r0.r1.r1.r0.-r1' == 'r1.r1.r1.r0.r0.-r1'`.\n",
    "\n",
    "Now optimizing sequences is much easier! We just need to find subsequences moving the same face, and apply optimizations described above to every one of them. Example of the algorithm:\n",
    "1. Initial solution: `'r1.r0.r1.r1.-r0.r1.r1.f1.f0.-f1.r1.r0.r1.r1'`\n",
    "2. Group subsequences moving the same faces: `['r1.r0.r1.r1.-r0.r1.r1', 'f1.f0.-f1', 'r1.r0.r1.r1']`\n",
    "3. Optimize each subsequence applying transformations described above: `['r1', 'f0', '-r1.r0']`\n",
    "    - From the first sequence we removed 4 copies of `'r1'` and cancelled `'r0'` and `'-r0'`\n",
    "    - From the second sequence we removed cancelling pair `'f1'` and `'-f1'`\n",
    "    - In the third sequence we substituted 3 copies of `'r1'` to `'-r1'`\n",
    "4. Get optimized solution: `'r1.f0.-r1.r0'`\n",
    "\n",
    "The result is the same, but the number of moves is significantly smaller! But can we find such sequences in sample submission or one of the public solutions? Let's explore"
   ]
  },
  {
   "cell_type": "markdown",
   "id": "ac02c2f1",
   "metadata": {
    "jupyter": {
     "outputs_hidden": false
    },
    "papermill": {
     "duration": 0.006827,
     "end_time": "2024-01-07T14:12:25.713810",
     "exception": false,
     "start_time": "2024-01-07T14:12:25.706983",
     "status": "completed"
    },
    "tags": []
   },
   "source": [
    "# Setup #"
   ]
  },
  {
   "cell_type": "code",
   "execution_count": 1,
   "id": "db76d6c2",
   "metadata": {
    "collapsed": false,
    "execution": {
     "iopub.execute_input": "2024-01-07T14:12:25.728292Z",
     "iopub.status.busy": "2024-01-07T14:12:25.727908Z",
     "iopub.status.idle": "2024-01-07T14:12:28.234452Z",
     "shell.execute_reply": "2024-01-07T14:12:28.233358Z"
    },
    "jupyter": {
     "outputs_hidden": false
    },
    "papermill": {
     "duration": 2.516661,
     "end_time": "2024-01-07T14:12:28.236826",
     "exception": false,
     "start_time": "2024-01-07T14:12:25.720165",
     "status": "completed"
    },
    "tags": []
   },
   "outputs": [],
   "source": [
    "from collections import Counter\n",
    "import itertools\n",
    "from ast import literal_eval\n",
    "from pathlib import Path\n",
    "from pprint import pprint\n",
    "\n",
    "import numpy as np\n",
    "import pandas as pd\n",
    "from sympy.combinatorics import Permutation\n",
    "import seaborn as sns\n",
    "import matplotlib.pyplot as plt"
   ]
  },
  {
   "cell_type": "markdown",
   "id": "9617109c",
   "metadata": {
    "papermill": {
     "duration": 0.006413,
     "end_time": "2024-01-07T14:12:28.250089",
     "exception": false,
     "start_time": "2024-01-07T14:12:28.243676",
     "status": "completed"
    },
    "tags": []
   },
   "source": [
    "Read the data from the competition and from @seanbearden 's [public solution](https://www.kaggle.com/code/seanbearden/solve-all-nxnxn-cubes-w-traditional-solution-state/notebook)"
   ]
  },
  {
   "cell_type": "code",
   "execution_count": 2,
   "id": "6d168282",
   "metadata": {
    "execution": {
     "iopub.execute_input": "2024-01-07T14:12:28.264912Z",
     "iopub.status.busy": "2024-01-07T14:12:28.264435Z",
     "iopub.status.idle": "2024-01-07T14:12:31.300748Z",
     "shell.execute_reply": "2024-01-07T14:12:31.300013Z"
    },
    "papermill": {
     "duration": 3.046854,
     "end_time": "2024-01-07T14:12:31.303428",
     "exception": false,
     "start_time": "2024-01-07T14:12:28.256574",
     "status": "completed"
    },
    "tags": []
   },
   "outputs": [],
   "source": [
    "data_dir = Path(\"/kaggle/input/santa-2023\")\n",
    "\n",
    "puzzle_info = pd.read_csv('puzzle_info.csv', index_col='puzzle_type')\n",
    "# Parse allowed_moves\n",
    "puzzle_info['allowed_moves'] = puzzle_info['allowed_moves'].apply(literal_eval)\n",
    "\n",
    "puzzles = pd.read_csv('puzzles.csv', index_col='id')\n",
    "# Parse color states\n",
    "puzzles = puzzles.assign(\n",
    "    initial_state=lambda df: df['initial_state'].str.split(';'),\n",
    "    solution_state=lambda df: df['solution_state'].str.split(';')\n",
    ")\n",
    "\n",
    "sample_submission = pd.read_csv('sample_submission.csv', index_col='id')\n",
    "sean_submission = pd.read_csv(\n",
    "    '7ocakbest.csv',\n",
    "    index_col=0\n",
    ")"
   ]
  },
  {
   "cell_type": "markdown",
   "id": "d0fe23df",
   "metadata": {
    "papermill": {
     "duration": 0.006488,
     "end_time": "2024-01-07T14:12:31.316809",
     "exception": false,
     "start_time": "2024-01-07T14:12:31.310321",
     "status": "completed"
    },
    "tags": []
   },
   "source": [
    "You can see that in the solution of Sean moves are typically grouped by the same face. Maybe we can optimize it!"
   ]
  },
  {
   "cell_type": "code",
   "execution_count": 3,
   "id": "63d23fdb",
   "metadata": {
    "execution": {
     "iopub.execute_input": "2024-01-07T14:12:31.331320Z",
     "iopub.status.busy": "2024-01-07T14:12:31.330912Z",
     "iopub.status.idle": "2024-01-07T14:12:31.338744Z",
     "shell.execute_reply": "2024-01-07T14:12:31.338182Z"
    },
    "papermill": {
     "duration": 0.017168,
     "end_time": "2024-01-07T14:12:31.340438",
     "exception": false,
     "start_time": "2024-01-07T14:12:31.323270",
     "status": "completed"
    },
    "tags": []
   },
   "outputs": [
    {
     "data": {
      "text/plain": [
       "'f0.f1.f2.f3.f4.f5.f6.f7.f8.f9.f10.f11.f12.f13.f14.f15.d32.-r17.-r18.-r19.-r20.-r21.-r22.-r23.-r24.-r25.-r26.-r27.-r28.-r29.-r30.-r31.-r32.d17.d18.d19.d20.d21.d22.d23.d24.d25.d26.d27.d28.d29.d30.d31.d32.-f17.-f18.-f19.-f20.-f21.-f22.-f23.-f24.-f25.-f26.-f27.-f28.-f29.-f30.-f31.-f32.r0.r1.r2.r3.r4.r5.r6.r7.r8.r9.r10.r11.r12.r13.r14.r15.-d17.-d18.-d19.-d20.-d21.-d22.-d23.-d24.-d25.-d26.-d27.-d28.-d29.-d30.-d31.-d32.f0.f0.f1.f1.f2.f2.f3.f3.f4.f4.f5.f5.f6.f6.f7.f7.f8.f8.f9.f9.f10.f10.f11.f11.f12.f12.'"
      ]
     },
     "execution_count": 3,
     "metadata": {},
     "output_type": "execute_result"
    }
   ],
   "source": [
    "sean_submission.loc[281, 'moves'][:500]"
   ]
  },
  {
   "cell_type": "code",
   "execution_count": 4,
   "id": "fbb5eec1",
   "metadata": {
    "collapsed": false,
    "execution": {
     "iopub.execute_input": "2024-01-07T14:12:31.355938Z",
     "iopub.status.busy": "2024-01-07T14:12:31.355307Z",
     "iopub.status.idle": "2024-01-07T14:12:31.419828Z",
     "shell.execute_reply": "2024-01-07T14:12:31.418846Z"
    },
    "jupyter": {
     "outputs_hidden": false
    },
    "papermill": {
     "duration": 0.074836,
     "end_time": "2024-01-07T14:12:31.422161",
     "exception": false,
     "start_time": "2024-01-07T14:12:31.347325",
     "status": "completed"
    },
    "tags": []
   },
   "outputs": [],
   "source": [
    "def apply_sequence(sequence, moves, state):\n",
    "    \"\"\"Apply a sequence of moves in array form to a color state.\"\"\"\n",
    "    state = np.asarray(state)\n",
    "    for m in sequence.split('.'):\n",
    "        state = state[moves[m]]\n",
    "    return state\n",
    "\n",
    "\n",
    "# Convert allowed_moves to dict and add inverse moves\n",
    "all_moves = puzzle_info.loc[:, 'allowed_moves'].to_dict()\n",
    "for ptype, moves in all_moves.copy().items():\n",
    "    for m, arr in moves.copy().items():\n",
    "        all_moves[ptype][f\"-{m}\"] = np.argsort(arr).tolist()"
   ]
  },
  {
   "cell_type": "markdown",
   "id": "144b0bf4",
   "metadata": {
    "papermill": {
     "duration": 0.006421,
     "end_time": "2024-01-07T14:12:31.436461",
     "exception": false,
     "start_time": "2024-01-07T14:12:31.430040",
     "status": "completed"
    },
    "tags": []
   },
   "source": [
    "Let's take a look at one of the big cubes"
   ]
  },
  {
   "cell_type": "code",
   "execution_count": 5,
   "id": "5577b6e8",
   "metadata": {
    "execution": {
     "iopub.execute_input": "2024-01-07T14:12:31.451570Z",
     "iopub.status.busy": "2024-01-07T14:12:31.450895Z",
     "iopub.status.idle": "2024-01-07T14:12:31.481561Z",
     "shell.execute_reply": "2024-01-07T14:12:31.480427Z"
    },
    "papermill": {
     "duration": 0.040935,
     "end_time": "2024-01-07T14:12:31.484068",
     "exception": false,
     "start_time": "2024-01-07T14:12:31.443133",
     "status": "completed"
    },
    "tags": []
   },
   "outputs": [
    {
     "data": {
      "text/html": [
       "<div>\n",
       "<style scoped>\n",
       "    .dataframe tbody tr th:only-of-type {\n",
       "        vertical-align: middle;\n",
       "    }\n",
       "\n",
       "    .dataframe tbody tr th {\n",
       "        vertical-align: top;\n",
       "    }\n",
       "\n",
       "    .dataframe thead th {\n",
       "        text-align: right;\n",
       "    }\n",
       "</style>\n",
       "<table border=\"1\" class=\"dataframe\">\n",
       "  <thead>\n",
       "    <tr style=\"text-align: right;\">\n",
       "      <th></th>\n",
       "      <th>puzzle_type</th>\n",
       "      <th>solution_state</th>\n",
       "      <th>initial_state</th>\n",
       "      <th>num_wildcards</th>\n",
       "    </tr>\n",
       "    <tr>\n",
       "      <th>id</th>\n",
       "      <th></th>\n",
       "      <th></th>\n",
       "      <th></th>\n",
       "      <th></th>\n",
       "    </tr>\n",
       "  </thead>\n",
       "  <tbody>\n",
       "    <tr>\n",
       "      <th>281</th>\n",
       "      <td>cube_33/33/33</td>\n",
       "      <td>[A, A, A, A, A, A, A, A, A, A, A, A, A, A, A, ...</td>\n",
       "      <td>[B, F, C, B, E, F, A, F, F, C, B, A, F, A, D, ...</td>\n",
       "      <td>0</td>\n",
       "    </tr>\n",
       "    <tr>\n",
       "      <th>282</th>\n",
       "      <td>cube_33/33/33</td>\n",
       "      <td>[A, B, A, B, A, B, A, B, A, B, A, B, A, B, A, ...</td>\n",
       "      <td>[F, B, A, F, A, C, B, B, C, B, B, A, E, F, A, ...</td>\n",
       "      <td>0</td>\n",
       "    </tr>\n",
       "    <tr>\n",
       "      <th>283</th>\n",
       "      <td>cube_33/33/33</td>\n",
       "      <td>[N0, N1, N2, N3, N4, N5, N6, N7, N8, N9, N10, ...</td>\n",
       "      <td>[N1056, N4357, N3264, N3270, N924, N2183, N109...</td>\n",
       "      <td>0</td>\n",
       "    </tr>\n",
       "  </tbody>\n",
       "</table>\n",
       "</div>"
      ],
      "text/plain": [
       "       puzzle_type                                     solution_state   \n",
       "id                                                                      \n",
       "281  cube_33/33/33  [A, A, A, A, A, A, A, A, A, A, A, A, A, A, A, ...  \\\n",
       "282  cube_33/33/33  [A, B, A, B, A, B, A, B, A, B, A, B, A, B, A, ...   \n",
       "283  cube_33/33/33  [N0, N1, N2, N3, N4, N5, N6, N7, N8, N9, N10, ...   \n",
       "\n",
       "                                         initial_state  num_wildcards  \n",
       "id                                                                     \n",
       "281  [B, F, C, B, E, F, A, F, F, C, B, A, F, A, D, ...              0  \n",
       "282  [F, B, A, F, A, C, B, B, C, B, B, A, E, F, A, ...              0  \n",
       "283  [N1056, N4357, N3264, N3270, N924, N2183, N109...              0  "
      ]
     },
     "execution_count": 5,
     "metadata": {},
     "output_type": "execute_result"
    }
   ],
   "source": [
    "puzzles[puzzles[\"puzzle_type\"] == \"cube_33/33/33\"]"
   ]
  },
  {
   "cell_type": "code",
   "execution_count": 6,
   "id": "5db15fc4",
   "metadata": {
    "execution": {
     "iopub.execute_input": "2024-01-07T14:12:31.500791Z",
     "iopub.status.busy": "2024-01-07T14:12:31.500009Z",
     "iopub.status.idle": "2024-01-07T14:12:31.505871Z",
     "shell.execute_reply": "2024-01-07T14:12:31.504739Z"
    },
    "papermill": {
     "duration": 0.016421,
     "end_time": "2024-01-07T14:12:31.507730",
     "exception": false,
     "start_time": "2024-01-07T14:12:31.491309",
     "status": "completed"
    },
    "tags": []
   },
   "outputs": [
    {
     "data": {
      "text/plain": [
       "'cube_33/33/33'"
      ]
     },
     "execution_count": 6,
     "metadata": {},
     "output_type": "execute_result"
    }
   ],
   "source": [
    "puzzle_idx = 281\n",
    "puzzle_name = puzzles.loc[puzzle_idx, 'puzzle_type']\n",
    "puzzle_name"
   ]
  },
  {
   "cell_type": "code",
   "execution_count": 7,
   "id": "0772b204",
   "metadata": {
    "execution": {
     "iopub.execute_input": "2024-01-07T14:12:31.524389Z",
     "iopub.status.busy": "2024-01-07T14:12:31.523816Z",
     "iopub.status.idle": "2024-01-07T14:12:31.529589Z",
     "shell.execute_reply": "2024-01-07T14:12:31.528282Z"
    },
    "papermill": {
     "duration": 0.016866,
     "end_time": "2024-01-07T14:12:31.531975",
     "exception": false,
     "start_time": "2024-01-07T14:12:31.515109",
     "status": "completed"
    },
    "tags": []
   },
   "outputs": [],
   "source": [
    "# Get info for the first puzzle\n",
    "solution_state = puzzles.iloc[puzzle_idx, 1]\n",
    "initial_state = puzzles.iloc[puzzle_idx, 2]\n",
    "baseline_solution = sample_submission.loc[puzzle_idx, 'moves']\n",
    "sean_solution = sean_submission.loc[puzzle_idx, 'moves']"
   ]
  },
  {
   "cell_type": "markdown",
   "id": "1acfc30f",
   "metadata": {
    "papermill": {
     "duration": 0.006772,
     "end_time": "2024-01-07T14:12:31.546056",
     "exception": false,
     "start_time": "2024-01-07T14:12:31.539284",
     "status": "completed"
    },
    "tags": []
   },
   "source": [
    "Here's a bunch of helper code"
   ]
  },
  {
   "cell_type": "code",
   "execution_count": 8,
   "id": "5bcf4fb7",
   "metadata": {
    "execution": {
     "iopub.execute_input": "2024-01-07T14:12:31.562161Z",
     "iopub.status.busy": "2024-01-07T14:12:31.561763Z",
     "iopub.status.idle": "2024-01-07T14:12:31.595604Z",
     "shell.execute_reply": "2024-01-07T14:12:31.594435Z"
    },
    "papermill": {
     "duration": 0.044721,
     "end_time": "2024-01-07T14:12:31.597696",
     "exception": false,
     "start_time": "2024-01-07T14:12:31.552975",
     "status": "completed"
    },
    "tags": []
   },
   "outputs": [],
   "source": [
    "def find_cube_inverse_move(move):\n",
    "    if move[:2] == '--':\n",
    "        return move\n",
    "    elif move[0] == '-':\n",
    "        return move [1:]\n",
    "    else:\n",
    "        return f'-{move}'\n",
    "\n",
    "    \n",
    "def is_same_group(move1, move2):\n",
    "    \"\"\"\n",
    "    Check if two Rubik's cube moves belong to the same group (move the same side).\n",
    "\n",
    "    Args:\n",
    "        move1 (str): The first move.\n",
    "        move2 (str): The second move.\n",
    "\n",
    "    Returns:\n",
    "        bool: True if moves belong to the same group, False otherwise.\n",
    "    \"\"\"\n",
    "    return move1.lstrip('-')[0] == move2.lstrip('-')[0]\n",
    "\n",
    "\n",
    "def group_cube_moves(moves):\n",
    "    \"\"\"\n",
    "    Group Rubik's cube moves by side.\n",
    "\n",
    "    Args:\n",
    "        moves (list): A list of strings representing Rubik's cube moves.\n",
    "\n",
    "    Returns:\n",
    "        list: A list of lists, where each sublist contains consecutive moves of the same side.\n",
    "    \"\"\"\n",
    "    grouped_moves = []\n",
    "    current_group = []\n",
    "\n",
    "    for move in moves:\n",
    "        if not current_group or is_same_group(move, current_group[-1]):\n",
    "            current_group.append(move)\n",
    "        else:\n",
    "            grouped_moves.append(current_group)\n",
    "            current_group = [move]\n",
    "\n",
    "    if current_group:\n",
    "        grouped_moves.append(current_group)\n",
    "\n",
    "    return grouped_moves\n",
    "\n",
    "assert group_cube_moves(\n",
    "    ['r1', 'r0', '-r1', '-r0', 'r0', 'f1', 'r0', '-f1', 'f1', 'f0']\n",
    ") == [['r1', 'r0', '-r1', '-r0', 'r0'], ['f1'], ['r0'], ['-f1', 'f1', 'f0']]\n",
    "assert group_cube_moves(['r1']) == [['r1']]\n",
    "assert group_cube_moves(['r1', 'f1']) == [['r1'], ['f1']]\n",
    "assert group_cube_moves(['r1', 'r0', 'f1']) == [['r1', 'r0'], ['f1']]\n",
    "\n",
    "\n",
    "def remove_multiples_of_four(group):\n",
    "    \"\"\"\n",
    "    Process a group of elements according to the specified algorithm.\n",
    "\n",
    "    Args:\n",
    "        group (list): A list of elements.\n",
    "\n",
    "    Returns:\n",
    "        list: A new list with elements repeated according to their modulo 4 count.\n",
    "    \"\"\"\n",
    "    if len(group) < 4:\n",
    "        return group\n",
    "    \n",
    "    # Step 1: Calculate the number of elements\n",
    "    element_counts = Counter(group)\n",
    "\n",
    "    # Step 2: Take modulo 4 for each count\n",
    "    for element in element_counts:\n",
    "        element_counts[element] %= 4\n",
    "\n",
    "    # Step 3: Create a new list with the remaining counts\n",
    "    new_group = []\n",
    "    for element, count in element_counts.items():\n",
    "        new_group.extend([element] * count)\n",
    "\n",
    "    return new_group\n",
    "\n",
    "assert sorted(remove_multiples_of_four(['r1', 'r1', 'r1', 'r1', 'r1', 'r0', 'r1'])) == ['r0', 'r1', 'r1']\n",
    "assert remove_multiples_of_four(['r1', 'r1', 'r1', 'r1']) == []\n",
    "assert remove_multiples_of_four(['r1', 'r1', 'r1']) == ['r1', 'r1', 'r1']\n",
    "assert sorted(remove_multiples_of_four(['r1', 'r1', 'r1', 'r1', 'r1', 'r0', 'r1', 'r0', 'r0', 'r0'])) == ['r1', 'r1']\n",
    "assert remove_multiples_of_four(['r1', 'r1', 'r1', 'r1', 'r0', 'r1', 'r1', 'r1', 'r1']) == ['r0']\n",
    "assert sorted(remove_multiples_of_four(['r1', 'r1', 'r1', 'r1', 'r0', 'r1', 'r1', 'r1', 'r1', 'r1'])) == ['r0', 'r1']\n",
    "\n",
    "\n",
    "def remove_cancelling_pairs(group):\n",
    "    \"\"\"\n",
    "    Remove an element and its inverse from a group of Rubik's cube moves efficiently.\n",
    "\n",
    "    Args:\n",
    "        group (list): A list of strings representing a group of Rubik's cube moves.\n",
    "\n",
    "    Returns:\n",
    "        list: A list with paired elements and their inverses removed based on counts.\n",
    "    \"\"\"\n",
    "    if len(group) < 2:\n",
    "        return group\n",
    "    \n",
    "    move_counts = Counter(group)\n",
    "\n",
    "    # Adjust counts for each move and its inverse\n",
    "    for move, count in list(move_counts.items()):\n",
    "        inv = find_cube_inverse_move(move)\n",
    "        if inv in move_counts:\n",
    "            min_count = min(move_counts[move], move_counts[inv])\n",
    "            move_counts[move] -= min_count\n",
    "            move_counts[inv] -= min_count\n",
    "\n",
    "    # Construct the final list based on adjusted counts\n",
    "    final_group = []\n",
    "    for move, count in move_counts.items():\n",
    "        final_group.extend([move] * count)\n",
    "\n",
    "    return final_group\n",
    "\n",
    "assert remove_cancelling_pairs(['r1', 'r0', '-r1']) == ['r0']\n",
    "assert remove_cancelling_pairs(['-r1', 'r1', 'r1']) == ['r1']\n",
    "assert remove_cancelling_pairs(['r1', 'r0', 'r1', '-r1', '-r1']) == ['r0']\n",
    "assert remove_cancelling_pairs(['r1', 'r0', 'r1', '-r1', '-r1', '-r0']) == []\n",
    "assert remove_cancelling_pairs(['r1', 'r0', 'r1', '-r1', '-r1', '-r0', 'r0']) == ['r0']\n",
    "assert remove_cancelling_pairs(['r1']) == ['r1']\n",
    "assert remove_cancelling_pairs(['r1', 'r1']) == ['r1', 'r1']\n",
    "\n",
    "\n",
    "def substitute_three_for_inverse(group):\n",
    "    \"\"\"\n",
    "    Substitute every three occurrences of an element with one occurrence of its inverse.\n",
    "\n",
    "    Args:\n",
    "        group (list): A list of strings representing a group of Rubik's cube moves.\n",
    "\n",
    "    Returns:\n",
    "        list: A list with every three occurrences of an element substituted with its inverse.\n",
    "    \"\"\"\n",
    "    \n",
    "    if len(group) < 3:\n",
    "        return group\n",
    "\n",
    "    move_counts = Counter(group)\n",
    "\n",
    "    new_group = []\n",
    "    for move, count in move_counts.items():\n",
    "        inverse_count = count // 3\n",
    "        remainder_count = count % 3\n",
    "        new_group.extend([find_cube_inverse_move(move)] * inverse_count)\n",
    "        new_group.extend([move] * remainder_count)\n",
    "\n",
    "    return new_group\n",
    "\n",
    "# Test cases\n",
    "assert substitute_three_for_inverse(['r1', 'r1', 'r1']) == ['-r1']\n",
    "assert sorted(substitute_three_for_inverse(['r1', 'r0', 'r1'])) == ['r0', 'r1', 'r1']\n",
    "assert sorted(substitute_three_for_inverse(['r1', 'r0', 'r1', 'r1'])) == ['-r1', 'r0']\n",
    "assert sorted(substitute_three_for_inverse(['r1', 'r0', 'r1', 'r1', 'r0', 'r0'])) == ['-r0', '-r1']\n",
    "assert sorted(substitute_three_for_inverse(['r1', 'r0', 'r1', 'r1', 'r0', 'r0', 'r1'])) == ['-r0', '-r1', 'r1']\n",
    "assert substitute_three_for_inverse(['r1']) == ['r1']\n",
    "assert substitute_three_for_inverse(['r1', 'r1']) == ['r1', 'r1']\n",
    "\n",
    "def groups_to_solution(groups: list):\n",
    "    \"\"\"Convert list of lists of moves to one list\"\"\"\n",
    "    return list(itertools.chain.from_iterable(groups))\n",
    "\n",
    "\n",
    "def regroup(groups):\n",
    "    \"\"\"Merge groups to a list of moves, then split to groups again to remove empty groups\"\"\"\n",
    "    moves = groups_to_solution(groups)\n",
    "    # print(\"Moves:\", len(moves))\n",
    "    return group_cube_moves(moves)\n",
    "\n",
    "\n",
    "def optimize_solution(moves, puzzle=\"cube\"):\n",
    "    \"\"\"Apply optimizations while length of moves is decreasing\"\"\"\n",
    "    \n",
    "    groups = group_cube_moves(moves)\n",
    "    previous_length = len(moves)\n",
    "    keep_optimizing = True\n",
    "    \n",
    "    while keep_optimizing:\n",
    "        if puzzle == \"cube\":\n",
    "            # First try to remove as many meaningless moves as possible\n",
    "            # print(\"Removing 4s\")\n",
    "            groups = [remove_multiples_of_four(group) for group in groups]\n",
    "            groups = regroup(groups)  # If some groups became empty, other groups can appear so we need to regroup\n",
    "        \n",
    "        if puzzle in (\"cube\", \"wreath\"):\n",
    "            # Try to remove more elements by throwing out cancellations\n",
    "            # print(\"Removing pairs\")\n",
    "            groups = [remove_cancelling_pairs(group) for group in groups]\n",
    "            groups = regroup(groups)\n",
    "        \n",
    "        if puzzle == \"cube\":\n",
    "            # Finally, try to reduce length a bit by substituting triplets. It will not require regrouping\n",
    "            # print(\"Substituting triplets\")\n",
    "            groups = [substitute_three_for_inverse(group) for group in groups]\n",
    "            moves = groups_to_solution(groups)\n",
    "\n",
    "        keep_optimizing = (len(moves) != previous_length)\n",
    "        previous_length = len(moves)\n",
    "        # print(\"Moves:\", len(moves))\n",
    "        \n",
    "    return moves"
   ]
  },
  {
   "cell_type": "markdown",
   "id": "4ce75731",
   "metadata": {
    "papermill": {
     "duration": 0.006414,
     "end_time": "2024-01-07T14:12:31.611060",
     "exception": false,
     "start_time": "2024-01-07T14:12:31.604646",
     "status": "completed"
    },
    "tags": []
   },
   "source": [
    "Let's take a look how big are the subsequences of the moves of the same face"
   ]
  },
  {
   "cell_type": "code",
   "execution_count": 9,
   "id": "39030819",
   "metadata": {
    "execution": {
     "iopub.execute_input": "2024-01-07T14:12:31.626756Z",
     "iopub.status.busy": "2024-01-07T14:12:31.625555Z",
     "iopub.status.idle": "2024-01-07T14:12:31.698672Z",
     "shell.execute_reply": "2024-01-07T14:12:31.697863Z"
    },
    "papermill": {
     "duration": 0.083815,
     "end_time": "2024-01-07T14:12:31.701474",
     "exception": false,
     "start_time": "2024-01-07T14:12:31.617659",
     "status": "completed"
    },
    "tags": []
   },
   "outputs": [
    {
     "data": {
      "text/plain": [
       "123431"
      ]
     },
     "execution_count": 9,
     "metadata": {},
     "output_type": "execute_result"
    }
   ],
   "source": [
    "solution = baseline_solution.split('.')\n",
    "solution_groups = group_cube_moves(solution)\n",
    "groups_lengths = [len(group) for group in solution_groups]\n",
    "\n",
    "len(solution)"
   ]
  },
  {
   "cell_type": "code",
   "execution_count": 10,
   "id": "5d9537e7",
   "metadata": {
    "execution": {
     "iopub.execute_input": "2024-01-07T14:12:31.717969Z",
     "iopub.status.busy": "2024-01-07T14:12:31.717576Z",
     "iopub.status.idle": "2024-01-07T14:12:32.730757Z",
     "shell.execute_reply": "2024-01-07T14:12:32.729371Z"
    },
    "papermill": {
     "duration": 1.024743,
     "end_time": "2024-01-07T14:12:32.733697",
     "exception": false,
     "start_time": "2024-01-07T14:12:31.708954",
     "status": "completed"
    },
    "tags": []
   },
   "outputs": [
    {
     "data": {
      "text/plain": [
       "Text(0.5, 1.0, 'Length of subsequences of the same face moves in the baseline solution')"
      ]
     },
     "execution_count": 10,
     "metadata": {},
     "output_type": "execute_result"
    },
    {
     "data": {
      "image/png": "[encoded data removed]",
      "text/plain": [
       "<Figure size 640x480 with 1 Axes>"
      ]
     },
     "metadata": {},
     "output_type": "display_data"
    }
   ],
   "source": [
    "sns.histplot(groups_lengths)\n",
    "plt.yscale('log')\n",
    "plt.title('Length of subsequences of the same face moves in the baseline solution')"
   ]
  },
  {
   "cell_type": "markdown",
   "id": "4c09d705",
   "metadata": {
    "papermill": {
     "duration": 0.007326,
     "end_time": "2024-01-07T14:12:32.748765",
     "exception": false,
     "start_time": "2024-01-07T14:12:32.741439",
     "status": "completed"
    },
    "tags": []
   },
   "source": [
    "We can see that in the baseline submission, sequences of the moves of the same face are typically not very long. What about Sean's submission?"
   ]
  },
  {
   "cell_type": "code",
   "execution_count": 11,
   "id": "ef73c1e2",
   "metadata": {
    "execution": {
     "iopub.execute_input": "2024-01-07T14:12:32.765842Z",
     "iopub.status.busy": "2024-01-07T14:12:32.765474Z",
     "iopub.status.idle": "2024-01-07T14:12:32.816797Z",
     "shell.execute_reply": "2024-01-07T14:12:32.815386Z"
    },
    "papermill": {
     "duration": 0.062805,
     "end_time": "2024-01-07T14:12:32.819373",
     "exception": false,
     "start_time": "2024-01-07T14:12:32.756568",
     "status": "completed"
    },
    "tags": []
   },
   "outputs": [
    {
     "data": {
      "text/plain": [
       "80613"
      ]
     },
     "execution_count": 11,
     "metadata": {},
     "output_type": "execute_result"
    }
   ],
   "source": [
    "solution = sean_solution.split('.')\n",
    "solution_groups = group_cube_moves(solution)\n",
    "\n",
    "groups_lengths = [len(group) for group in solution_groups]\n",
    "\n",
    "len(solution)"
   ]
  },
  {
   "cell_type": "code",
   "execution_count": 12,
   "id": "996da90b",
   "metadata": {
    "execution": {
     "iopub.execute_input": "2024-01-07T14:12:32.837113Z",
     "iopub.status.busy": "2024-01-07T14:12:32.836775Z",
     "iopub.status.idle": "2024-01-07T14:12:33.514159Z",
     "shell.execute_reply": "2024-01-07T14:12:33.511983Z"
    },
    "papermill": {
     "duration": 0.688738,
     "end_time": "2024-01-07T14:12:33.516169",
     "exception": false,
     "start_time": "2024-01-07T14:12:32.827431",
     "status": "completed"
    },
    "tags": []
   },
   "outputs": [
    {
     "data": {
      "text/plain": [
       "Text(0.5, 1.0, 'Length of subsequences of the same face moves in the Sean solution')"
      ]
     },
     "execution_count": 12,
     "metadata": {},
     "output_type": "execute_result"
    },
    {
     "data": {
      "image/png": "[encoded data removed]",
      "text/plain": [
       "<Figure size 640x480 with 1 Axes>"
      ]
     },
     "metadata": {},
     "output_type": "display_data"
    }
   ],
   "source": [
    "sns.histplot(groups_lengths)\n",
    "plt.yscale('log')\n",
    "plt.title('Length of subsequences of the same face moves in the Sean solution')"
   ]
  },
  {
   "cell_type": "markdown",
   "id": "c67488a2",
   "metadata": {
    "papermill": {
     "duration": 0.007637,
     "end_time": "2024-01-07T14:12:33.532066",
     "exception": false,
     "start_time": "2024-01-07T14:12:33.524429",
     "status": "completed"
    },
    "tags": []
   },
   "source": [
    "The solution is shorter, but there are much longer subsequences! If you think about it, they are absurdly long sometimes. You can move the same face by `33*2 = 66` different ways without cancellations or repetitions of the same move 3 times. All the longer sequences necessarily contain either cancellation of some move or triplets of the same move and therefore can be optimized.\n",
    "\n",
    "Let's check how each of the optimizations impact the length of the solution:"
   ]
  },
  {
   "cell_type": "code",
   "execution_count": 13,
   "id": "8cd77f33",
   "metadata": {
    "execution": {
     "iopub.execute_input": "2024-01-07T14:12:33.549746Z",
     "iopub.status.busy": "2024-01-07T14:12:33.548863Z",
     "iopub.status.idle": "2024-01-07T14:12:54.127223Z",
     "shell.execute_reply": "2024-01-07T14:12:54.125653Z"
    },
    "papermill": {
     "duration": 20.589655,
     "end_time": "2024-01-07T14:12:54.129365",
     "exception": false,
     "start_time": "2024-01-07T14:12:33.539710",
     "status": "completed"
    },
    "tags": []
   },
   "outputs": [
    {
     "name": "stdout",
     "output_type": "stream",
     "text": [
      "Before: 80613\n",
      "After: 80613\n"
     ]
    },
    {
     "data": {
      "text/plain": [
       "True"
      ]
     },
     "execution_count": 13,
     "metadata": {},
     "output_type": "execute_result"
    }
   ],
   "source": [
    "filtered_groups = [remove_multiples_of_four(group) for group in solution_groups]\n",
    "filtered_groups_lengths = [len(group) for group in filtered_groups]\n",
    "print(\"Before:\", sum(groups_lengths))\n",
    "print(\"After:\", sum(filtered_groups_lengths))\n",
    "\n",
    "# Check if the state is a valid solution\n",
    "filtered_solution = \".\".join(groups_to_solution(filtered_groups))\n",
    "state = apply_sequence(filtered_solution, all_moves[puzzle_name], initial_state)\n",
    "np.array_equal(state, solution_state)"
   ]
  },
  {
   "cell_type": "code",
   "execution_count": 14,
   "id": "0972898a",
   "metadata": {
    "execution": {
     "iopub.execute_input": "2024-01-07T14:12:54.147818Z",
     "iopub.status.busy": "2024-01-07T14:12:54.147439Z",
     "iopub.status.idle": "2024-01-07T14:13:15.308890Z",
     "shell.execute_reply": "2024-01-07T14:13:15.308235Z"
    },
    "papermill": {
     "duration": 21.173305,
     "end_time": "2024-01-07T14:13:15.311360",
     "exception": false,
     "start_time": "2024-01-07T14:12:54.138055",
     "status": "completed"
    },
    "tags": []
   },
   "outputs": [
    {
     "name": "stdout",
     "output_type": "stream",
     "text": [
      "Before: 80613\n",
      "After: 80613\n"
     ]
    },
    {
     "data": {
      "text/plain": [
       "True"
      ]
     },
     "execution_count": 14,
     "metadata": {},
     "output_type": "execute_result"
    }
   ],
   "source": [
    "filtered_groups = [remove_cancelling_pairs(group) for group in solution_groups]\n",
    "filtered_groups_lengths = [len(group) for group in filtered_groups]\n",
    "print(\"Before:\", sum(groups_lengths))\n",
    "print(\"After:\", sum(filtered_groups_lengths))\n",
    "\n",
    "filtered_solution = \".\".join(groups_to_solution(filtered_groups))\n",
    "state = apply_sequence(filtered_solution, all_moves[puzzle_name], initial_state)\n",
    "np.array_equal(state, solution_state)"
   ]
  },
  {
   "cell_type": "code",
   "execution_count": 15,
   "id": "a2926499",
   "metadata": {
    "execution": {
     "iopub.execute_input": "2024-01-07T14:13:15.331141Z",
     "iopub.status.busy": "2024-01-07T14:13:15.330038Z",
     "iopub.status.idle": "2024-01-07T14:13:36.134179Z",
     "shell.execute_reply": "2024-01-07T14:13:36.133442Z"
    },
    "papermill": {
     "duration": 20.815962,
     "end_time": "2024-01-07T14:13:36.135843",
     "exception": false,
     "start_time": "2024-01-07T14:13:15.319881",
     "status": "completed"
    },
    "tags": []
   },
   "outputs": [
    {
     "name": "stdout",
     "output_type": "stream",
     "text": [
      "Before: 80613\n",
      "After: 80613\n"
     ]
    },
    {
     "data": {
      "text/plain": [
       "True"
      ]
     },
     "execution_count": 15,
     "metadata": {},
     "output_type": "execute_result"
    }
   ],
   "source": [
    "filtered_groups = [substitute_three_for_inverse(group) for group in solution_groups]\n",
    "print(\"Before:\", sum(groups_lengths))\n",
    "print(\"After:\", sum([len(group) for group in filtered_groups]))\n",
    "\n",
    "filtered_solution = \".\".join(groups_to_solution(filtered_groups))\n",
    "state = apply_sequence(filtered_solution, all_moves[puzzle_name], initial_state)\n",
    "np.array_equal(state, solution_state)"
   ]
  },
  {
   "cell_type": "markdown",
   "id": "1fcb5e32",
   "metadata": {
    "papermill": {
     "duration": 0.007997,
     "end_time": "2024-01-07T14:13:36.152414",
     "exception": false,
     "start_time": "2024-01-07T14:13:36.144417",
     "status": "completed"
    },
    "tags": []
   },
   "source": [
    "The solution is still correct, but we removed **thousands** of moves, including multiples of 4s! Now let's apply all these optimizations as many times as we can:"
   ]
  },
  {
   "cell_type": "code",
   "execution_count": 18,
   "id": "9aea4477",
   "metadata": {
    "execution": {
     "iopub.execute_input": "2024-01-07T14:13:36.170968Z",
     "iopub.status.busy": "2024-01-07T14:13:36.170576Z",
     "iopub.status.idle": "2024-01-07T14:14:05.575207Z",
     "shell.execute_reply": "2024-01-07T14:14:05.574245Z"
    },
    "papermill": {
     "duration": 29.416715,
     "end_time": "2024-01-07T14:14:05.577483",
     "exception": false,
     "start_time": "2024-01-07T14:13:36.160768",
     "status": "completed"
    },
    "tags": []
   },
   "outputs": [
    {
     "name": "stdout",
     "output_type": "stream",
     "text": [
      "cube 151 Solution is correct: True\n"
     ]
    }
   ],
   "source": [
    "solutions = []\n",
    "old_lengths = []\n",
    "new_lengths = []\n",
    "\n",
    "for puzzle_idx in range(puzzles.shape[0]):\n",
    "    puzzle_name = puzzles.loc[puzzle_idx, 'puzzle_type']\n",
    "    puzzle_type = puzzle_name[:puzzle_name.find(\"_\")]\n",
    "    \n",
    "    sean_solution = sean_submission.loc[puzzle_idx, 'moves']\n",
    "    solution = sean_solution.split('.')\n",
    "    new_solution = optimize_solution(solution, puzzle_type)\n",
    "\n",
    "    solutions.append(new_solution)\n",
    "    old_lengths.append(len(solution))\n",
    "    new_lengths.append(len(new_solution))\n",
    "    \n",
    "    if len(solution) != len(new_solution):\n",
    "        solution_state = puzzles.iloc[puzzle_idx, 1]\n",
    "        initial_state = puzzles.iloc[puzzle_idx, 2]\n",
    "        state = apply_sequence(\".\".join(new_solution), all_moves[puzzle_name], initial_state)\n",
    "        print(puzzle_type, puzzle_idx, \"Solution is correct:\", np.array_equal(state, solution_state))\n",
    "    \n",
    "#    print(len(solution), len(new_solution))\n",
    "#    print()"
   ]
  },
  {
   "cell_type": "code",
   "execution_count": 19,
   "id": "3eda6972",
   "metadata": {
    "execution": {
     "iopub.execute_input": "2024-01-07T14:14:05.596773Z",
     "iopub.status.busy": "2024-01-07T14:14:05.596467Z",
     "iopub.status.idle": "2024-01-07T14:14:05.601771Z",
     "shell.execute_reply": "2024-01-07T14:14:05.600730Z"
    },
    "papermill": {
     "duration": 0.017746,
     "end_time": "2024-01-07T14:14:05.604315",
     "exception": false,
     "start_time": "2024-01-07T14:14:05.586569",
     "status": "completed"
    },
    "tags": []
   },
   "outputs": [],
   "source": [
    "improvement = np.array(old_lengths) - np.array(new_lengths)"
   ]
  },
  {
   "cell_type": "code",
   "execution_count": 20,
   "id": "4049c2fe",
   "metadata": {
    "execution": {
     "iopub.execute_input": "2024-01-07T14:14:05.624657Z",
     "iopub.status.busy": "2024-01-07T14:14:05.624301Z",
     "iopub.status.idle": "2024-01-07T14:14:05.861424Z",
     "shell.execute_reply": "2024-01-07T14:14:05.859774Z"
    },
    "papermill": {
     "duration": 0.250131,
     "end_time": "2024-01-07T14:14:05.863791",
     "exception": false,
     "start_time": "2024-01-07T14:14:05.613660",
     "status": "completed"
    },
    "tags": []
   },
   "outputs": [
    {
     "data": {
      "text/plain": [
       "Text(0, 0.5, \"Sean's optimized solution\")"
      ]
     },
     "execution_count": 20,
     "metadata": {},
     "output_type": "execute_result"
    },
    {
     "data": {
      "image/png": "[encoded data removed]",
      "text/plain": [
       "<Figure size 640x480 with 1 Axes>"
      ]
     },
     "metadata": {},
     "output_type": "display_data"
    }
   ],
   "source": [
    "sns.scatterplot(x=old_lengths, y=new_lengths)\n",
    "plt.xlabel(\"Sean's solution\")\n",
    "plt.ylabel(\"Sean's optimized solution\")"
   ]
  },
  {
   "cell_type": "code",
   "execution_count": 21,
   "id": "bd18b28a",
   "metadata": {
    "execution": {
     "iopub.execute_input": "2024-01-07T14:14:05.940263Z",
     "iopub.status.busy": "2024-01-07T14:14:05.939898Z",
     "iopub.status.idle": "2024-01-07T14:14:05.946336Z",
     "shell.execute_reply": "2024-01-07T14:14:05.944850Z"
    },
    "papermill": {
     "duration": 0.019868,
     "end_time": "2024-01-07T14:14:05.948446",
     "exception": false,
     "start_time": "2024-01-07T14:14:05.928578",
     "status": "completed"
    },
    "tags": []
   },
   "outputs": [
    {
     "data": {
      "text/plain": [
       "2"
      ]
     },
     "execution_count": 21,
     "metadata": {},
     "output_type": "execute_result"
    }
   ],
   "source": [
    "sum(improvement)"
   ]
  },
  {
   "cell_type": "markdown",
   "id": "0b03c4ed",
   "metadata": {
    "papermill": {
     "duration": 0.009307,
     "end_time": "2024-01-07T14:14:05.967459",
     "exception": false,
     "start_time": "2024-01-07T14:14:05.958152",
     "status": "completed"
    },
    "tags": []
   },
   "source": [
    "We won more than 9000 steps!"
   ]
  },
  {
   "cell_type": "code",
   "execution_count": 22,
   "id": "58f32cf8",
   "metadata": {
    "execution": {
     "iopub.execute_input": "2024-01-07T14:14:05.988299Z",
     "iopub.status.busy": "2024-01-07T14:14:05.987949Z",
     "iopub.status.idle": "2024-01-07T14:14:06.386181Z",
     "shell.execute_reply": "2024-01-07T14:14:06.384808Z"
    },
    "papermill": {
     "duration": 0.411474,
     "end_time": "2024-01-07T14:14:06.388563",
     "exception": false,
     "start_time": "2024-01-07T14:14:05.977089",
     "status": "completed"
    },
    "tags": []
   },
   "outputs": [
    {
     "data": {
      "text/plain": [
       "<Axes: ylabel='Count'>"
      ]
     },
     "execution_count": 22,
     "metadata": {},
     "output_type": "execute_result"
    },
    {
     "data": {
      "image/png": "[encoded data removed]",
      "text/plain": [
       "<Figure size 640x480 with 1 Axes>"
      ]
     },
     "metadata": {},
     "output_type": "display_data"
    }
   ],
   "source": [
    "sns.histplot(improvement[improvement > 0], log_scale=(True, False))"
   ]
  },
  {
   "cell_type": "code",
   "execution_count": 23,
   "id": "991a9523",
   "metadata": {
    "execution": {
     "iopub.execute_input": "2024-01-07T14:14:06.411148Z",
     "iopub.status.busy": "2024-01-07T14:14:06.410744Z",
     "iopub.status.idle": "2024-01-07T14:14:06.437799Z",
     "shell.execute_reply": "2024-01-07T14:14:06.436117Z"
    },
    "papermill": {
     "duration": 0.041777,
     "end_time": "2024-01-07T14:14:06.440413",
     "exception": false,
     "start_time": "2024-01-07T14:14:06.398636",
     "status": "completed"
    },
    "tags": []
   },
   "outputs": [],
   "source": [
    "moves = [\".\".join(moves) for moves in solutions]\n",
    "my_submission = sean_submission.copy()\n",
    "my_submission[\"moves\"] = moves"
   ]
  },
  {
   "cell_type": "code",
   "execution_count": 22,
   "id": "260d89f8",
   "metadata": {
    "execution": {
     "iopub.execute_input": "2024-01-07T14:14:06.463407Z",
     "iopub.status.busy": "2024-01-07T14:14:06.462450Z",
     "iopub.status.idle": "2024-01-07T14:14:06.515936Z",
     "shell.execute_reply": "2024-01-07T14:14:06.514306Z"
    },
    "papermill": {
     "duration": 0.067676,
     "end_time": "2024-01-07T14:14:06.518308",
     "exception": false,
     "start_time": "2024-01-07T14:14:06.450632",
     "status": "completed"
    },
    "tags": []
   },
   "outputs": [],
   "source": [
    "my_submission.to_csv(\"optimized_seans.csv\")"
   ]
  },
  {
   "cell_type": "markdown",
   "id": "c91a3b38",
   "metadata": {
    "papermill": {
     "duration": 0.009797,
     "end_time": "2024-01-07T14:14:06.538385",
     "exception": false,
     "start_time": "2024-01-07T14:14:06.528588",
     "status": "completed"
    },
    "tags": []
   },
   "source": [
    "You can apply the same procedure to any solution you have. Hopefully, you'll get great results! Share other ideas of improvements in comments. Obvious directions are:\n",
    "- Extend optimizations to the other puzzles\n",
    "- Find more complicated optimizations. The fact that you can sort the moves how you like inside subsequences might help"
   ]
  }
 ],
 "metadata": {
  "kaggle": {
   "accelerator": "none",
   "dataSources": [
    {
     "databundleVersionId": 7339171,
     "sourceId": 65704,
     "sourceType": "competition"
    },
    {
     "sourceId": 156779022,
     "sourceType": "kernelVersion"
    },
    {
     "sourceId": 158035872,
     "sourceType": "kernelVersion"
    }
   ],
   "dockerImageVersionId": 30626,
   "isGpuEnabled": false,
   "isInternetEnabled": true,
   "language": "python",
   "sourceType": "notebook"
  },
  "kernelspec": {
   "display_name": "Python 3",
   "language": "python",
   "name": "python3"
  },
  "language_info": {
   "codemirror_mode": {
    "name": "ipython",
    "version": 3
   },
   "file_extension": ".py",
   "mimetype": "text/x-python",
   "name": "python",
   "nbconvert_exporter": "python",
   "pygments_lexer": "ipython3",
   "version": "3.10.10"
  },
  "name": "getting_started.ipynb",
  "papermill": {
   "default_parameters": {},
   "duration": 104.341969,
   "end_time": "2024-01-07T14:14:07.371596",
   "environment_variables": {},
   "exception": null,
   "input_path": "__notebook__.ipynb",
   "output_path": "__notebook__.ipynb",
   "parameters": {},
   "start_time": "2024-01-07T14:12:23.029627",
   "version": "2.4.0"
  }
 },
 "nbformat": 4,
 "nbformat_minor": 5
}
