{
 "cells": [
  {
   "cell_type": "markdown",
   "id": "7d1fb5b1",
   "metadata": {
    "_cell_guid": "b1076dfc-b9ad-4769-8c92-a6c4dae69d19",
    "_uuid": "8f2839f25d086af736a60e9eeb907d3b93b6e0e5",
    "papermill": {
     "duration": 0.004086,
     "end_time": "2024-01-08T07:29:25.394784",
     "exception": false,
     "start_time": "2024-01-08T07:29:25.390698",
     "status": "completed"
    },
    "tags": []
   },
   "source": [
    "1) For Cube puzzles, we know there are rules of __mi.mi.mi = -mi__ and __mi.mi.mi.mi.= empty__. Let's make it more general for all the three kinds of puzzles into the sign change rules with the form of __mi\\*\\*(n) = -mi\\*\\*(n)__:\n",
    "\n",
    "- For Cube, __n=2__, or say __mi.mi = -mi.-mi__. By the pair cancellation rule (https://www.kaggle.com/code/cl12102783/cancel-pairs-for-all-puzzles), we can get:\n",
    "    - mi.mi.mi = -mi.-mi.mi = -mi\n",
    "    - mi.mi.mi.mi = -mi.-mi.mi.mi = empty\n",
    "    - Meanwhile, there are commutative rule for cube. i.e. mi.m?.mi.m?.mi = unordered(-mi.m?.m?)\n",
    "    \n",
    "    \n",
    "- For Wreath, n is based on the size of the wreath.\n",
    "    - when wreath size is an even number, __n = size/2__. We could imagine the circle has the symmetric feature. i.e. wreath_6/6 has n=3\n",
    "    - when wreath size is an odd number, __n = size__. i.e. wreath_7/7 has n=7\n",
    "    - Based on the tests, the wreath is non-commutative, so I only implement replacement without location change, similar to https://www.kaggle.com/code/cl12102783/cancel-pairs-for-all-puzzles\n",
    "    \n",
    "    \n",
    "- For Globe: \n",
    "    - fi is non-commutative with fi=-fi (https://www.kaggle.com/code/cl12102783/cancel-pairs-for-all-puzzles) or n=1\n",
    "    - ri is commutative and n equals the final number of the type. i.e. globe_1/8 has n=8\n",
    "    \n",
    "2) Furthermore, to apply the sign change rule, we could think when the count of the mi is larger than n, then there will be downsizing. The downsizing rule is __n_left = n-(count - n)__:\n",
    "   - when n_left>0, there will __-mi\\*\\*(n_left)__. i.e. for cube, mi.mi.mi has n=2, so 2-(3-2)=1, to be -mi\n",
    "   - when n_left<0, there will __mi\\*\\*(n_left)__. i.e. for globe_1/8, ri\\*\\*(18) has n=8, so 8-(18-8)=-2, to be ri\\*\\*(2)\n",
    "   - when n_left=0, all mi will be cancelled in the same move group. i.e. for cube, mi.mi.mi.mi has n=2, so 2-(4-2)=0, to be cancelled\n"
   ]
  },
  {
   "cell_type": "code",
   "execution_count": 2,
   "id": "1277c473",
   "metadata": {
    "execution": {
     "iopub.execute_input": "2024-01-08T07:29:25.404194Z",
     "iopub.status.busy": "2024-01-08T07:29:25.403691Z",
     "iopub.status.idle": "2024-01-08T07:29:26.072006Z",
     "shell.execute_reply": "2024-01-08T07:29:26.070907Z"
    },
    "papermill": {
     "duration": 0.676304,
     "end_time": "2024-01-08T07:29:26.074761",
     "exception": false,
     "start_time": "2024-01-08T07:29:25.398457",
     "status": "completed"
    },
    "tags": []
   },
   "outputs": [],
   "source": [
    "import pandas as pd\n",
    "from collections import deque\n",
    "import tqdm\n",
    "import glob\n",
    "import numpy as np\n",
    "from collections import Counter\n",
    "\n",
    "df_puzzles = pd.read_csv('puzzles.csv')\n",
    "df_puzzle_info = pd.read_csv('puzzle_info.csv')\n",
    "\n",
    "# Consider all high-score files\n",
    "files = pd.read_csv('7ocakbest.csv')"
   ]
  },
  {
   "cell_type": "code",
   "execution_count": 3,
   "id": "7289785d",
   "metadata": {
    "execution": {
     "iopub.execute_input": "2024-01-08T07:29:26.083886Z",
     "iopub.status.busy": "2024-01-08T07:29:26.083496Z",
     "iopub.status.idle": "2024-01-08T07:29:26.109805Z",
     "shell.execute_reply": "2024-01-08T07:29:26.108479Z"
    },
    "papermill": {
     "duration": 0.033948,
     "end_time": "2024-01-08T07:29:26.112354",
     "exception": false,
     "start_time": "2024-01-08T07:29:26.078406",
     "status": "completed"
    },
    "tags": []
   },
   "outputs": [],
   "source": [
    "def cancel_group(moves, group):\n",
    "    def get_grp(elem):\n",
    "        return elem[1] if elem.startswith('-') else elem[0]\n",
    "\n",
    "    def drop_grp(elem, group):\n",
    "        grp = group.split('_')[0]\n",
    "        if grp == 'globe' and elem[-1].replace('-','')[0]=='f':\n",
    "            return elem\n",
    "            \n",
    "        config = dict(\n",
    "            cube = 2,\n",
    "            globe = int(group.split('/')[-1]),\n",
    "        )\n",
    "        grp_size = config[grp]\n",
    "        move = elem.copy()\n",
    "        flag = True\n",
    "        while flag:\n",
    "            flag = False\n",
    "            cnt = Counter(move)\n",
    "            for k, v in cnt.items():\n",
    "                if v > grp_size:\n",
    "                    flag = True\n",
    "                    sign_opp = '' if k.startswith('-') else '-'\n",
    "                    num_add = grp_size-(v-grp_size)\n",
    "                    for _ in range(abs(num_add)):\n",
    "                        if num_add>0:\n",
    "                            move.append(sign_opp+k.replace('-',''))\n",
    "                        elif num_add<0:\n",
    "                            move.append(k)\n",
    "                    for _ in range(v):\n",
    "                        move.remove(k)\n",
    "                    break\n",
    "        return move\n",
    "    \n",
    "    def solver(elem, grp):\n",
    "        move = elem.copy()\n",
    "        grp_name = grp.split('_')[0]\n",
    "        if grp_name !='wreath':\n",
    "            move = drop_grp(move, grp)\n",
    "        return move\n",
    "    \n",
    "    moves = moves+'.'\n",
    "    win = deque()\n",
    "    result = deque()\n",
    "    move = ''\n",
    "    for i in moves:\n",
    "        if i != '.':\n",
    "            move += i\n",
    "        else:\n",
    "            if len(win)<1:\n",
    "                win.append(move)\n",
    "                move = ''\n",
    "                continue\n",
    "            grp_last, grp_new = get_grp(win[-1]), get_grp(move)\n",
    "            if grp_last == grp_new:\n",
    "                win.append(move)\n",
    "            else:\n",
    "                result.extend(solver(win, group))\n",
    "                win = deque([move])\n",
    "            move=''\n",
    "     \n",
    "    # Collect remainder\n",
    "    if len(win)>0:\n",
    "        result.extend(solver(win, group))\n",
    "    return '.'.join(result)\n",
    "\n",
    "def drop_grp_wreath(moves, group):\n",
    "    kind = group.split('/')[-1]\n",
    "    kind = int(int(kind)/2) if int(kind)%2==0 else int(kind)\n",
    "    moves += '.'\n",
    "    result = deque()\n",
    "    win = deque()\n",
    "    move = ''\n",
    "    \n",
    "    for i in moves:\n",
    "        if i !='.':\n",
    "            move+=i\n",
    "        else:\n",
    "            if not win:\n",
    "                win.append(move)\n",
    "                move = ''\n",
    "                continue\n",
    "            if move != win[-1]:\n",
    "                if len(win) > kind:\n",
    "                    print('I am here')\n",
    "                    times = kind-(len(win)-kind)\n",
    "                    if times>0:\n",
    "                        case_opp = win[-1][1] if len(win[-1])>1 else '-'+win[-1]\n",
    "                        result.extend([case_opp]*times)\n",
    "                    elif times<0:\n",
    "                        result.extend([win[-1]]*abs(times))\n",
    "                else:\n",
    "                    result.extend(win)\n",
    "                win = deque([move]) \n",
    "            else:\n",
    "                win.append(move)\n",
    "            move = ''\n",
    "    if win:\n",
    "        result.extend(win)\n",
    "    return '.'.join(result)\n",
    "\n",
    "def multiple_try(elem, group):\n",
    "    len_old = len(elem.split('.'))\n",
    "    move_old = elem\n",
    "    flag = True\n",
    "    while flag:\n",
    "        if group.split('_')[0] == 'wreath':\n",
    "            move_new = drop_grp_wreath(move_old, group)\n",
    "        else:\n",
    "            move_new = cancel_group(move_old, group)\n",
    "            \n",
    "        len_new = len(move_new.split('.'))\n",
    "        if len_new<len_old:\n",
    "            move_old = move_new\n",
    "            len_old = len_new\n",
    "        else:\n",
    "            flag=False\n",
    "    return move_old"
   ]
  },
  {
   "cell_type": "code",
   "execution_count": 5,
   "id": "2eb0f9bf",
   "metadata": {
    "execution": {
     "iopub.execute_input": "2024-01-08T07:29:26.121374Z",
     "iopub.status.busy": "2024-01-08T07:29:26.120948Z",
     "iopub.status.idle": "2024-01-08T07:29:38.298370Z",
     "shell.execute_reply": "2024-01-08T07:29:38.297121Z"
    },
    "papermill": {
     "duration": 12.185446,
     "end_time": "2024-01-08T07:29:38.301333",
     "exception": false,
     "start_time": "2024-01-08T07:29:26.115887",
     "status": "completed"
    },
    "tags": []
   },
   "outputs": [
    {
     "ename": "ValueError",
     "evalue": "not enough values to unpack (expected 2, got 1)",
     "output_type": "error",
     "traceback": [
      "\u001b[1;31m---------------------------------------------------------------------------\u001b[0m",
      "\u001b[1;31mValueError\u001b[0m                                Traceback (most recent call last)",
      "Cell \u001b[1;32mIn[5], line 5\u001b[0m\n\u001b[0;32m      1\u001b[0m result \u001b[38;5;241m=\u001b[39m \u001b[38;5;28mdict\u001b[39m()\n\u001b[0;32m      3\u001b[0m \u001b[38;5;28;01mfor\u001b[39;00m row \u001b[38;5;129;01min\u001b[39;00m files:\n\u001b[1;32m----> 5\u001b[0m     id_, move \u001b[38;5;241m=\u001b[39m row\u001b[38;5;241m.\u001b[39mstrip()\u001b[38;5;241m.\u001b[39msplit(\u001b[38;5;124m'\u001b[39m\u001b[38;5;124m,\u001b[39m\u001b[38;5;124m'\u001b[39m)\n\u001b[0;32m      6\u001b[0m     id_ \u001b[38;5;241m=\u001b[39m \u001b[38;5;28mint\u001b[39m(id_)\n\u001b[0;32m      7\u001b[0m     group \u001b[38;5;241m=\u001b[39m df_puzzles\u001b[38;5;241m.\u001b[39miloc[id_]\u001b[38;5;241m.\u001b[39mpuzzle_type\n",
      "\u001b[1;31mValueError\u001b[0m: not enough values to unpack (expected 2, got 1)"
     ]
    }
   ],
   "source": [
    "result = dict()\n",
    "\n",
    "for row in files:\n",
    "    \n",
    "    id_, move = row.strip().split(',')\n",
    "    id_ = int(id_)\n",
    "    group = df_puzzles.iloc[id_].puzzle_type\n",
    "    \n",
    "    move = multiple_try(move, group)\n",
    "    \n",
    "    if id_ not in result:\n",
    "        result[id_] = move\n",
    "    else:\n",
    "        if len(move.split('.')) < len(result[id_].split('.')):\n",
    "            result[id_] = move"
   ]
  },
  {
   "cell_type": "code",
   "execution_count": 4,
   "id": "5d309835",
   "metadata": {
    "execution": {
     "iopub.execute_input": "2024-01-08T07:29:38.311176Z",
     "iopub.status.busy": "2024-01-08T07:29:38.310732Z",
     "iopub.status.idle": "2024-01-08T07:29:38.500330Z",
     "shell.execute_reply": "2024-01-08T07:29:38.498883Z"
    },
    "papermill": {
     "duration": 0.199484,
     "end_time": "2024-01-08T07:29:38.504818",
     "exception": false,
     "start_time": "2024-01-08T07:29:38.305334",
     "status": "completed"
    },
    "tags": []
   },
   "outputs": [],
   "source": [
    "df_sub = pd.DataFrame()\n",
    "df_sub['id'] = result.keys()\n",
    "df_sub['moves'] = result.values()\n",
    "df_sub.to_csv('submission.csv', index=False)"
   ]
  },
  {
   "cell_type": "code",
   "execution_count": 5,
   "id": "a48ee328",
   "metadata": {
    "execution": {
     "iopub.execute_input": "2024-01-08T07:29:38.517213Z",
     "iopub.status.busy": "2024-01-08T07:29:38.516763Z",
     "iopub.status.idle": "2024-01-08T07:29:38.629834Z",
     "shell.execute_reply": "2024-01-08T07:29:38.628725Z"
    },
    "papermill": {
     "duration": 0.121804,
     "end_time": "2024-01-08T07:29:38.632325",
     "exception": false,
     "start_time": "2024-01-08T07:29:38.510521",
     "status": "completed"
    },
    "tags": []
   },
   "outputs": [
    {
     "data": {
      "text/plain": [
       "827386"
      ]
     },
     "execution_count": 5,
     "metadata": {},
     "output_type": "execute_result"
    }
   ],
   "source": [
    "df_sub.moves.str.split('.').apply(lambda x: len(x)).sum()"
   ]
  }
 ],
 "metadata": {
  "kaggle": {
   "accelerator": "none",
   "dataSources": [
    {
     "databundleVersionId": 7339171,
     "sourceId": 65704,
     "sourceType": "competition"
    },
    {
     "datasetId": 4274938,
     "sourceId": 7359842,
     "sourceType": "datasetVersion"
    },
    {
     "sourceId": 158035872,
     "sourceType": "kernelVersion"
    },
    {
     "sourceId": 158096001,
     "sourceType": "kernelVersion"
    }
   ],
   "dockerImageVersionId": 30626,
   "isGpuEnabled": false,
   "isInternetEnabled": true,
   "language": "python",
   "sourceType": "notebook"
  },
  "kernelspec": {
   "display_name": "Python 3",
   "language": "python",
   "name": "python3"
  },
  "language_info": {
   "codemirror_mode": {
    "name": "ipython",
    "version": 3
   },
   "file_extension": ".py",
   "mimetype": "text/x-python",
   "name": "python",
   "nbconvert_exporter": "python",
   "pygments_lexer": "ipython3",
   "version": "3.10.10"
  },
  "papermill": {
   "default_parameters": {},
   "duration": 17.3207,
   "end_time": "2024-01-08T07:29:39.159572",
   "environment_variables": {},
   "exception": null,
   "input_path": "__notebook__.ipynb",
   "output_path": "__notebook__.ipynb",
   "parameters": {},
   "start_time": "2024-01-08T07:29:21.838872",
   "version": "2.4.0"
  }
 },
 "nbformat": 4,
 "nbformat_minor": 5
}
