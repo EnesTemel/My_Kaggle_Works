{
 "cells": [
  {
   "cell_type": "markdown",
   "id": "35a4aa7f",
   "metadata": {
    "papermill": {
     "duration": 0.005674,
     "end_time": "2023-12-24T23:18:38.755825",
     "exception": false,
     "start_time": "2023-12-24T23:18:38.750151",
     "status": "completed"
    },
    "tags": []
   },
   "source": [
    "## Intro\n",
    "This notebook shows how to apply Kociemba's two-phase algorithm to **Santa 2023 - The Polytope Permutation Puzzle!** competition\n",
    "1. Note that two-phase algorithm does not guarantee that the produced solution is the shortest possible. Instead, it gives you a \"good enough\" solution in a very short time.  \n",
    "2. Kociemba provides many other algorithms including optimum 'shortest' solution algorithms for cube *3x3x3*\n",
    "\n",
    "Have fun! Many thanks to the hosts and authors mentioned below:\n",
    "\n",
    "# Refferences/credits:\n",
    "* https://pypi.org/project/kociemba/\n",
    "* http://kociemba.org/\n",
    "* https://github.com/hkociemba/RubiksCube-TwophaseSolver/blob/master/enums.py (UBL)\n",
    "* https://www.kaggle.com/code/ryanholbrook/getting-started-with-santa-2023\n",
    "* https://www.kaggle.com/code/paulorzp/magic-cube-utilities (moves)\n",
    "* https://www.kaggle.com/code/metric/santa-2023-metric (scoring)\n",
    "* https://www.kaggle.com/code/jazivxt/wayfinder (scoring)\n",
    "* https://www.kaggle.com/code/dinhttrandrise/bidirectional-brute-force-w-wildcards/ (current best submission.csv)"
   ]
  },
  {
   "cell_type": "code",
   "execution_count": null,
   "id": "7ea465a5",
   "metadata": {},
   "outputs": [
    {
     "name": "stderr",
     "output_type": "stream",
     "text": [
      "WARNING: Ignoring invalid distribution -upy-cuda12x (c:\\users\\enesm\\appdata\\local\\programs\\python\\python310\\lib\\site-packages)\n",
      "  error: subprocess-exited-with-error\n",
      "  \n",
      "  × Building wheel for kociemba (pyproject.toml) did not run successfully.\n",
      "  │ exit code: 1\n",
      "  ╰─> [80 lines of output]\n",
      "      Warning: 'classifiers' should be a list, got type 'tuple'\n",
      "      running bdist_wheel\n",
      "      running build\n",
      "      running build_py\n",
      "      creating build\n",
      "      creating build\\lib.win-amd64-cpython-310\n",
      "      creating build\\lib.win-amd64-cpython-310\\kociemba\n",
      "      copying kociemba\\build_ckociemba.py -> build\\lib.win-amd64-cpython-310\\kociemba\n",
      "      copying kociemba\\command_line.py -> build\\lib.win-amd64-cpython-310\\kociemba\n",
      "      copying kociemba\\__init__.py -> build\\lib.win-amd64-cpython-310\\kociemba\n",
      "      creating build\\lib.win-amd64-cpython-310\\kociemba\\cprunetables\n",
      "      copying kociemba\\cprunetables\\flipMove -> build\\lib.win-amd64-cpython-310\\kociemba\\cprunetables\n",
      "      copying kociemba\\cprunetables\\FRtoBR_Move -> build\\lib.win-amd64-cpython-310\\kociemba\\cprunetables\n",
      "      copying kociemba\\cprunetables\\MergeURtoULandUBtoDF -> build\\lib.win-amd64-cpython-310\\kociemba\\cprunetables\n",
      "      copying kociemba\\cprunetables\\Slice_Flip_Prun -> build\\lib.win-amd64-cpython-310\\kociemba\\cprunetables\n",
      "      copying kociemba\\cprunetables\\Slice_Twist_Prun -> build\\lib.win-amd64-cpython-310\\kociemba\\cprunetables\n",
      "      copying kociemba\\cprunetables\\Slice_URFtoDLF_Parity_Prun -> build\\lib.win-amd64-cpython-310\\kociemba\\cprunetables\n",
      "      copying kociemba\\cprunetables\\Slice_URtoDF_Parity_Prun -> build\\lib.win-amd64-cpython-310\\kociemba\\cprunetables\n",
      "      copying kociemba\\cprunetables\\twistMove -> build\\lib.win-amd64-cpython-310\\kociemba\\cprunetables\n",
      "      copying kociemba\\cprunetables\\UBtoDF_Move -> build\\lib.win-amd64-cpython-310\\kociemba\\cprunetables\n",
      "      copying kociemba\\cprunetables\\URFtoDLF_Move -> build\\lib.win-amd64-cpython-310\\kociemba\\cprunetables\n",
      "      copying kociemba\\cprunetables\\URtoDF_Move -> build\\lib.win-amd64-cpython-310\\kociemba\\cprunetables\n",
      "      copying kociemba\\cprunetables\\URtoUL_Move -> build\\lib.win-amd64-cpython-310\\kociemba\\cprunetables\n",
      "      creating build\\lib.win-amd64-cpython-310\\kociemba\\pykociemba\n",
      "      copying kociemba\\pykociemba\\color.py -> build\\lib.win-amd64-cpython-310\\kociemba\\pykociemba\n",
      "      copying kociemba\\pykociemba\\coordcube.py -> build\\lib.win-amd64-cpython-310\\kociemba\\pykociemba\n",
      "      copying kociemba\\pykociemba\\corner.py -> build\\lib.win-amd64-cpython-310\\kociemba\\pykociemba\n",
      "      copying kociemba\\pykociemba\\cubiecube.py -> build\\lib.win-amd64-cpython-310\\kociemba\\pykociemba\n",
      "      copying kociemba\\pykociemba\\edge.py -> build\\lib.win-amd64-cpython-310\\kociemba\\pykociemba\n",
      "      copying kociemba\\pykociemba\\facecube.py -> build\\lib.win-amd64-cpython-310\\kociemba\\pykociemba\n",
      "      copying kociemba\\pykociemba\\facelet.py -> build\\lib.win-amd64-cpython-310\\kociemba\\pykociemba\n",
      "      copying kociemba\\pykociemba\\search.py -> build\\lib.win-amd64-cpython-310\\kociemba\\pykociemba\n",
      "      copying kociemba\\pykociemba\\tools.py -> build\\lib.win-amd64-cpython-310\\kociemba\\pykociemba\n",
      "      copying kociemba\\pykociemba\\__init__.py -> build\\lib.win-amd64-cpython-310\\kociemba\\pykociemba\n",
      "      creating build\\lib.win-amd64-cpython-310\\kociemba\\pykociemba\\prunetables\n",
      "      copying kociemba\\pykociemba\\prunetables\\flipMove.pkl -> build\\lib.win-amd64-cpython-310\\kociemba\\pykociemba\\prunetables\n",
      "      copying kociemba\\pykociemba\\prunetables\\FRtoBR_Move.pkl -> build\\lib.win-amd64-cpython-310\\kociemba\\pykociemba\\prunetables\n",
      "      copying kociemba\\pykociemba\\prunetables\\MergeURtoULandUBtoDF.pkl -> build\\lib.win-amd64-cpython-310\\kociemba\\pykociemba\\prunetables\n",
      "      copying kociemba\\pykociemba\\prunetables\\Slice_Flip_Prun.pkl -> build\\lib.win-amd64-cpython-310\\kociemba\\pykociemba\\prunetables\n",
      "      copying kociemba\\pykociemba\\prunetables\\Slice_Twist_Prun.pkl -> build\\lib.win-amd64-cpython-310\\kociemba\\pykociemba\\prunetables\n",
      "      copying kociemba\\pykociemba\\prunetables\\Slice_URFtoDLF_Parity_Prun.pkl -> build\\lib.win-amd64-cpython-310\\kociemba\\pykociemba\\prunetables\n",
      "      copying kociemba\\pykociemba\\prunetables\\Slice_URtoDF_Parity_Prun.pkl -> build\\lib.win-amd64-cpython-310\\kociemba\\pykociemba\\prunetables\n",
      "      copying kociemba\\pykociemba\\prunetables\\twistMove.pkl -> build\\lib.win-amd64-cpython-310\\kociemba\\pykociemba\\prunetables\n",
      "      copying kociemba\\pykociemba\\prunetables\\UBtoDF_Move.pkl -> build\\lib.win-amd64-cpython-310\\kociemba\\pykociemba\\prunetables\n",
      "      copying kociemba\\pykociemba\\prunetables\\URFtoDLF_Move.pkl -> build\\lib.win-amd64-cpython-310\\kociemba\\pykociemba\\prunetables\n",
      "      copying kociemba\\pykociemba\\prunetables\\URtoDF_Move.pkl -> build\\lib.win-amd64-cpython-310\\kociemba\\pykociemba\\prunetables\n",
      "      copying kociemba\\pykociemba\\prunetables\\URtoUL_Move.pkl -> build\\lib.win-amd64-cpython-310\\kociemba\\pykociemba\\prunetables\n",
      "      creating build\\lib.win-amd64-cpython-310\\kociemba\\ckociemba\n",
      "      creating build\\lib.win-amd64-cpython-310\\kociemba\\ckociemba\\include\n",
      "      copying kociemba\\ckociemba\\include\\color.h -> build\\lib.win-amd64-cpython-310\\kociemba\\ckociemba\\include\n",
      "      copying kociemba\\ckociemba\\include\\coordcube.h -> build\\lib.win-amd64-cpython-310\\kociemba\\ckociemba\\include\n",
      "      copying kociemba\\ckociemba\\include\\corner.h -> build\\lib.win-amd64-cpython-310\\kociemba\\ckociemba\\include\n",
      "      copying kociemba\\ckociemba\\include\\cubiecube.h -> build\\lib.win-amd64-cpython-310\\kociemba\\ckociemba\\include\n",
      "      copying kociemba\\ckociemba\\include\\edge.h -> build\\lib.win-amd64-cpython-310\\kociemba\\ckociemba\\include\n",
      "      copying kociemba\\ckociemba\\include\\facecube.h -> build\\lib.win-amd64-cpython-310\\kociemba\\ckociemba\\include\n",
      "      copying kociemba\\ckociemba\\include\\facelet.h -> build\\lib.win-amd64-cpython-310\\kociemba\\ckociemba\\include\n",
      "      copying kociemba\\ckociemba\\include\\prunetable_helpers.h -> build\\lib.win-amd64-cpython-310\\kociemba\\ckociemba\\include\n",
      "      copying kociemba\\ckociemba\\include\\search.h -> build\\lib.win-amd64-cpython-310\\kociemba\\ckociemba\\include\n",
      "      copying kociemba\\ckociemba\\coordcube.c -> build\\lib.win-amd64-cpython-310\\kociemba\\ckociemba\n",
      "      copying kociemba\\ckociemba\\cubiecube.c -> build\\lib.win-amd64-cpython-310\\kociemba\\ckociemba\n",
      "      copying kociemba\\ckociemba\\facecube.c -> build\\lib.win-amd64-cpython-310\\kociemba\\ckociemba\n",
      "      copying kociemba\\ckociemba\\prunetable_helpers.c -> build\\lib.win-amd64-cpython-310\\kociemba\\ckociemba\n",
      "      copying kociemba\\ckociemba\\search.c -> build\\lib.win-amd64-cpython-310\\kociemba\\ckociemba\n",
      "      copying kociemba\\ckociemba\\solve.c -> build\\lib.win-amd64-cpython-310\\kociemba\\ckociemba\n",
      "      running build_ext\n",
      "      generating cffi module 'build\\\\temp.win-amd64-cpython-310\\\\Release\\\\kociemba.ckociembawrapper.c'\n",
      "      creating build\\temp.win-amd64-cpython-310\n",
      "      creating build\\temp.win-amd64-cpython-310\\Release\n",
      "      building 'kociemba.ckociembawrapper' extension\n",
      "      creating build\\temp.win-amd64-cpython-310\\Release\\build\n",
      "      creating build\\temp.win-amd64-cpython-310\\Release\\build\\temp.win-amd64-cpython-310\n",
      "      creating build\\temp.win-amd64-cpython-310\\Release\\build\\temp.win-amd64-cpython-310\\Release\n",
      "      creating build\\temp.win-amd64-cpython-310\\Release\\kociemba\n",
      "      creating build\\temp.win-amd64-cpython-310\\Release\\kociemba\\ckociemba\n",
      "      \"C:\\Program Files\\Microsoft Visual Studio\\2022\\Community\\VC\\Tools\\MSVC\\14.35.32215\\bin\\HostX86\\x64\\cl.exe\" /c /nologo /O2 /W3 /GL /DNDEBUG /MD -Ikociemba/ckociemba/include -IC:\\Users\\enesm\\AppData\\Local\\Programs\\Python\\Python310\\include -IC:\\Users\\enesm\\AppData\\Local\\Programs\\Python\\Python310\\Include \"-IC:\\Program Files\\Microsoft Visual Studio\\2022\\Community\\VC\\Tools\\MSVC\\14.35.32215\\include\" \"-IC:\\Program Files\\Microsoft Visual Studio\\2022\\Community\\VC\\Tools\\MSVC\\14.35.32215\\ATLMFC\\include\" \"-IC:\\Program Files\\Microsoft Visual Studio\\2022\\Community\\VC\\Auxiliary\\VS\\include\" \"-IC:\\Program Files (x86)\\Windows Kits\\NETFXSDK\\4.8\\include\\um\" /Tcbuild\\temp.win-amd64-cpython-310\\Release\\kociemba.ckociembawrapper.c /Fobuild\\temp.win-amd64-cpython-310\\Release\\build\\temp.win-amd64-cpython-310\\Release\\kociemba.ckociembawrapper.obj -std=c99 -O3 -D_XOPEN_SOURCE=700\n",
      "      cl : Command line warning D9002 : ignoring unknown option '-std=c99'\n",
      "      cl : Command line warning D9002 : ignoring unknown option '-O3'\n",
      "      kociemba.ckociembawrapper.c\n",
      "      C:\\Users\\enesm\\AppData\\Local\\Programs\\Python\\Python310\\include\\pyconfig.h(59): fatal error C1083: Cannot open include file: 'io.h': No such file or directory\n",
      "      error: command 'C:\\\\Program Files\\\\Microsoft Visual Studio\\\\2022\\\\Community\\\\VC\\\\Tools\\\\MSVC\\\\14.35.32215\\\\bin\\\\HostX86\\\\x64\\\\cl.exe' failed with exit code 2\n",
      "      [end of output]\n",
      "  \n",
      "  note: This error originates from a subprocess, and is likely not a problem with pip.\n",
      "  ERROR: Failed building wheel for kociemba\n",
      "ERROR: Could not build wheels for kociemba, which is required to install pyproject.toml-based projects\n"
     ]
    }
   ],
   "source": [
    "!pip install kociemba > NUL\n"
   ]
  },
  {
   "cell_type": "code",
   "execution_count": null,
   "id": "e7973f85",
   "metadata": {
    "execution": {
     "iopub.execute_input": "2023-12-24T23:18:38.768817Z",
     "iopub.status.busy": "2023-12-24T23:18:38.767876Z",
     "iopub.status.idle": "2023-12-24T23:19:05.467526Z",
     "shell.execute_reply": "2023-12-24T23:19:05.466067Z"
    },
    "papermill": {
     "duration": 26.709462,
     "end_time": "2023-12-24T23:19:05.470589",
     "exception": false,
     "start_time": "2023-12-24T23:18:38.761127",
     "status": "completed"
    },
    "tags": []
   },
   "outputs": [
    {
     "name": "stderr",
     "output_type": "stream",
     "text": [
      "The system cannot find the path specified.\n"
     ]
    },
    {
     "ename": "ModuleNotFoundError",
     "evalue": "No module named 'kociemba'",
     "output_type": "error",
     "traceback": [
      "\u001b[1;31m---------------------------------------------------------------------------\u001b[0m",
      "\u001b[1;31mModuleNotFoundError\u001b[0m                       Traceback (most recent call last)",
      "Cell \u001b[1;32mIn[2], line 2\u001b[0m\n\u001b[0;32m      1\u001b[0m get_ipython()\u001b[38;5;241m.\u001b[39msystem(\u001b[38;5;124m'\u001b[39m\u001b[38;5;124m pip install kociemba > /dev/null\u001b[39m\u001b[38;5;124m'\u001b[39m)\n\u001b[1;32m----> 2\u001b[0m \u001b[38;5;28;01mimport\u001b[39;00m \u001b[38;5;21;01mkociemba\u001b[39;00m\n",
      "\u001b[1;31mModuleNotFoundError\u001b[0m: No module named 'kociemba'"
     ]
    }
   ],
   "source": [
    "! pip install kociemba > /dev/null\n",
    "import kociemba"
   ]
  },
  {
   "cell_type": "markdown",
   "id": "23ba8138",
   "metadata": {
    "papermill": {
     "duration": 0.004945,
     "end_time": "2023-12-24T23:19:05.480914",
     "exception": false,
     "start_time": "2023-12-24T23:19:05.475969",
     "status": "completed"
    },
    "tags": []
   },
   "source": [
    "## Initial packages/data load\n",
    "* https://www.kaggle.com/code/metric/santa-2023-metric\n",
    "* https://www.kaggle.com/code/jazivxt/wayfinder\n",
    "* https://www.kaggle.com/code/dinhttrandrise/bidirectional-brute-force-w-wildcards/"
   ]
  },
  {
   "cell_type": "code",
   "execution_count": null,
   "id": "05c35f8c",
   "metadata": {
    "execution": {
     "iopub.execute_input": "2023-12-24T23:19:05.493539Z",
     "iopub.status.busy": "2023-12-24T23:19:05.493088Z",
     "iopub.status.idle": "2023-12-24T23:19:10.574460Z",
     "shell.execute_reply": "2023-12-24T23:19:10.573229Z"
    },
    "papermill": {
     "duration": 5.091369,
     "end_time": "2023-12-24T23:19:10.577603",
     "exception": false,
     "start_time": "2023-12-24T23:19:05.486234",
     "status": "completed"
    },
    "tags": []
   },
   "outputs": [],
   "source": [
    "import pandas as pd\n",
    "import numpy as np\n",
    "from sympy.combinatorics import Permutation\n",
    "\n",
    "p = 'C:/Users/enesm/OneDrive/Masaüstü/KAGGLE/Santa 2023 - The Polytope Permutation Puzzle/'\n",
    "path = pd.read_csv('puzzles.csv')\n",
    "info = pd.read_csv('puzzle_info.csv')\n",
    "sub = pd.read_csv('submission.csv')\n",
    "\n",
    "info['allowed_moves_count'] = info['allowed_moves'].map(lambda x: {k: Permutation(v) for k, v in eval(x).items()})\n",
    "paths = pd.merge(path, info, how='left', on='puzzle_type')\n",
    "paths = pd.merge(paths, sub, how='left', on='id')"
   ]
  },
  {
   "cell_type": "markdown",
   "id": "25c70308",
   "metadata": {
    "papermill": {
     "duration": 0.005637,
     "end_time": "2023-12-24T23:19:10.591671",
     "exception": false,
     "start_time": "2023-12-24T23:19:10.586034",
     "status": "completed"
    },
    "tags": []
   },
   "source": [
    "## Convert state to UBL \n",
    "Note that competition data is different than standard notation. Function `state2ubl()` performs two steps: mapping centre to UBL and then converts string into standard notation. Based on:\n",
    "* https://github.com/hkociemba/RubiksCube-TwophaseSolver/blob/master/enums.py (UBL)\n",
    "* https://www.kaggle.com/code/ryanholbrook/getting-started-with-santa-2023"
   ]
  },
  {
   "cell_type": "code",
   "execution_count": null,
   "id": "897aa71b",
   "metadata": {
    "execution": {
     "iopub.execute_input": "2023-12-24T23:19:10.606243Z",
     "iopub.status.busy": "2023-12-24T23:19:10.605797Z",
     "iopub.status.idle": "2023-12-24T23:19:10.613887Z",
     "shell.execute_reply": "2023-12-24T23:19:10.613011Z"
    },
    "papermill": {
     "duration": 0.018653,
     "end_time": "2023-12-24T23:19:10.616521",
     "exception": false,
     "start_time": "2023-12-24T23:19:10.597868",
     "status": "completed"
    },
    "tags": []
   },
   "outputs": [],
   "source": [
    "U = ['U', 'F', 'R', 'B', 'L', 'D']\n",
    "\n",
    "def state2ubl(state):\n",
    "\n",
    "    dct = {}\n",
    "    for u in range(len(U)):\n",
    "        dct[state.split(';')[4+u*9]] = U[u]\n",
    "\n",
    "    s = ''.join([dct[f] for f in state.split(';')])\n",
    "    \n",
    "    return s[:9] + s[18:27] + s[9:18] + s[45:] + s[36:45] + s[27:36]"
   ]
  },
  {
   "cell_type": "markdown",
   "id": "5157c892",
   "metadata": {
    "papermill": {
     "duration": 0.004879,
     "end_time": "2023-12-24T23:19:10.626649",
     "exception": false,
     "start_time": "2023-12-24T23:19:10.621770",
     "status": "completed"
    },
    "tags": []
   },
   "source": [
    "## Converting moves\n",
    "* https://www.kaggle.com/code/paulorzp/magic-cube-utilities"
   ]
  },
  {
   "cell_type": "code",
   "execution_count": null,
   "id": "67f83b52",
   "metadata": {
    "execution": {
     "iopub.execute_input": "2023-12-24T23:19:10.639112Z",
     "iopub.status.busy": "2023-12-24T23:19:10.638309Z",
     "iopub.status.idle": "2023-12-24T23:19:10.649258Z",
     "shell.execute_reply": "2023-12-24T23:19:10.648427Z"
    },
    "papermill": {
     "duration": 0.020071,
     "end_time": "2023-12-24T23:19:10.651775",
     "exception": false,
     "start_time": "2023-12-24T23:19:10.631704",
     "status": "completed"
    },
    "tags": []
   },
   "outputs": [],
   "source": [
    "moves = eval(info.loc[info['puzzle_type'] == 'cube_3/3/3']['allowed_moves'].values[0])\n",
    "for move in list(moves):\n",
    "    moves['-'+move] = np.argsort(moves[move]).tolist()\n",
    "\n",
    "M = {}\n",
    "M[\"U\"] = '-d2'\n",
    "M[\"R\"] = \"r0\"\n",
    "M[\"B\"] = \"-f2\"\n",
    "M[\"F\"] = \"f0\"\n",
    "M[\"L\"] = \"-r2\"\n",
    "M[\"D\"] = \"d0\"\n",
    "for m in list(M):\n",
    "    M[m+\"2\"] = M[m] + '.' + M[m]\n",
    "    if \"-\" in M[m]:\n",
    "        M[m+\"'\"] = M[m].replace(\"-\",\"\")\n",
    "    else:\n",
    "        M[m+\"'\"] = \"-\"+M[m]"
   ]
  },
  {
   "cell_type": "code",
   "execution_count": null,
   "id": "ede58fcd",
   "metadata": {
    "execution": {
     "iopub.execute_input": "2023-12-24T23:19:10.664382Z",
     "iopub.status.busy": "2023-12-24T23:19:10.663598Z",
     "iopub.status.idle": "2023-12-24T23:19:14.592064Z",
     "shell.execute_reply": "2023-12-24T23:19:14.590926Z"
    },
    "papermill": {
     "duration": 3.937531,
     "end_time": "2023-12-24T23:19:14.594486",
     "exception": false,
     "start_time": "2023-12-24T23:19:10.656955",
     "status": "completed"
    },
    "tags": []
   },
   "outputs": [],
   "source": [
    "for i in paths.loc[paths['puzzle_type'] == 'cube_3/3/3'].iterrows():\n",
    "    try:\n",
    "        id = i[1]['id']\n",
    "        cur_state = i[1]['initial_state']\n",
    "        \n",
    "        sol = kociemba.solve(state2ubl(cur_state))\n",
    "\n",
    "        new_state = cur_state\n",
    "        mmoves = '.'.join([M[m] for m in sol.split(' ')])\n",
    "\n",
    "        for move in mmoves.split('.'):\n",
    "            new_state = ';'.join(list(np.asarray(new_state.split(';'))[np.array(moves[move])]))\n",
    "        I = ['r0.r1.r2','d0.d1.d2','f0.f1.f2']\n",
    "        for init_moves in [''] + I + [i1 + '.' + i2 for i1 in I for i2 in I]+ [i1 + '.' + i2+ '.' + i3 for i1 in I for i2 in I for i3 in I]+ [i1 + '.' + i2+ '.' + i3 + '.' + i4 for i1 in I for i2 in I for i3 in I for i4 in I]:\n",
    "            temp_state = new_state\n",
    "            if len(init_moves) > 0:\n",
    "                for move in init_moves.split('.'):\n",
    "                    temp_state = ';'.join(list(np.asarray(temp_state.split(';'))[np.array(moves[move])]))\n",
    "\n",
    "            if temp_state == i[1]['solution_state']:\n",
    "                print(f'solved id: {id}')\n",
    "                if len(init_moves) > 0:\n",
    "                    mmoves += '.' + init_moves\n",
    "                if len(paths.iloc[id,7].split('.')) > len(mmoves.split('.')):\n",
    "                    print(f\"improved: new length {len(mmoves.split('.'))} vs current length {len(paths.iloc[id,7].split('.'))}\")\n",
    "                    paths.iloc[id,7] = mmoves\n",
    "                break\n",
    "    except:\n",
    "        pass"
   ]
  },
  {
   "cell_type": "markdown",
   "id": "f1dbb89c",
   "metadata": {
    "papermill": {
     "duration": 0.006221,
     "end_time": "2023-12-24T23:19:14.607633",
     "exception": false,
     "start_time": "2023-12-24T23:19:14.601412",
     "status": "completed"
    },
    "tags": []
   },
   "source": [
    "## Score\n",
    "* https://www.kaggle.com/code/metric/santa-2023-metric"
   ]
  },
  {
   "cell_type": "code",
   "execution_count": 7,
   "id": "ff0bf947",
   "metadata": {
    "_kg_hide-input": false,
    "execution": {
     "iopub.execute_input": "2023-12-24T23:19:14.622722Z",
     "iopub.status.busy": "2023-12-24T23:19:14.622346Z",
     "iopub.status.idle": "2023-12-24T23:19:14.632081Z",
     "shell.execute_reply": "2023-12-24T23:19:14.631016Z"
    },
    "papermill": {
     "duration": 0.020665,
     "end_time": "2023-12-24T23:19:14.634893",
     "exception": false,
     "start_time": "2023-12-24T23:19:14.614228",
     "status": "completed"
    },
    "tags": []
   },
   "outputs": [],
   "source": [
    "class ParticipantVisibleError(Exception):\n",
    "    pass\n",
    "\n",
    "def score(sol) -> float:\n",
    "    total_num_moves = 0\n",
    "    for i in range(len(sol)):\n",
    "        puzzle_id=sol['id'][i]\n",
    "        moves = sol.moves[i].split('.')\n",
    "        allowed_moves=sol.allowed_moves_count[i]\n",
    "        state = sol.initial_state[i].split(';')\n",
    "        solution_state=sol.solution_state[i].split(';')\n",
    "        num_wildcards=sol.num_wildcards[i]\n",
    "        for m in moves:\n",
    "            power = 1\n",
    "            if m[0] == \"-\":\n",
    "                m = m[1:]\n",
    "                power = -1\n",
    "            try:\n",
    "                p = allowed_moves[m]\n",
    "            except KeyError:\n",
    "                raise ParticipantVisibleError(f\"{m} is not an allowed move for {puzzle_id}.\")\n",
    "            state = (p ** power)(state)\n",
    "        num_wrong_facelets = sum(not(s == t) for s, t in zip(solution_state, state))\n",
    "        if num_wrong_facelets > num_wildcards:\n",
    "            print(puzzle_id, num_wrong_facelets, puzzle.num_wildcards)\n",
    "            raise ParticipantVisibleError(f\"Submitted moves do not solve {puzzle_id}.\")\n",
    "        total_num_moves += len(moves)\n",
    "    return total_num_moves"
   ]
  },
  {
   "cell_type": "code",
   "execution_count": 8,
   "id": "823899e3",
   "metadata": {
    "execution": {
     "iopub.execute_input": "2023-12-24T23:19:14.649790Z",
     "iopub.status.busy": "2023-12-24T23:19:14.649195Z",
     "iopub.status.idle": "2023-12-24T23:26:01.936982Z",
     "shell.execute_reply": "2023-12-24T23:26:01.935886Z"
    },
    "papermill": {
     "duration": 407.30376,
     "end_time": "2023-12-24T23:26:01.945410",
     "exception": false,
     "start_time": "2023-12-24T23:19:14.641650",
     "status": "completed"
    },
    "tags": []
   },
   "outputs": [
    {
     "ename": "KeyboardInterrupt",
     "evalue": "",
     "output_type": "error",
     "traceback": [
      "\u001b[1;31m---------------------------------------------------------------------------\u001b[0m",
      "\u001b[1;31mKeyboardInterrupt\u001b[0m                         Traceback (most recent call last)",
      "File \u001b[1;32m<timed eval>:1\u001b[0m\n",
      "Cell \u001b[1;32mIn[7], line 22\u001b[0m, in \u001b[0;36mscore\u001b[1;34m(sol)\u001b[0m\n\u001b[0;32m     20\u001b[0m     \u001b[38;5;28;01mexcept\u001b[39;00m \u001b[38;5;167;01mKeyError\u001b[39;00m:\n\u001b[0;32m     21\u001b[0m         \u001b[38;5;28;01mraise\u001b[39;00m ParticipantVisibleError(\u001b[38;5;124mf\u001b[39m\u001b[38;5;124m\"\u001b[39m\u001b[38;5;132;01m{\u001b[39;00mm\u001b[38;5;132;01m}\u001b[39;00m\u001b[38;5;124m is not an allowed move for \u001b[39m\u001b[38;5;132;01m{\u001b[39;00mpuzzle_id\u001b[38;5;132;01m}\u001b[39;00m\u001b[38;5;124m.\u001b[39m\u001b[38;5;124m\"\u001b[39m)\n\u001b[1;32m---> 22\u001b[0m     state \u001b[38;5;241m=\u001b[39m \u001b[43m(\u001b[49m\u001b[43mp\u001b[49m\u001b[43m \u001b[49m\u001b[38;5;241;43m*\u001b[39;49m\u001b[38;5;241;43m*\u001b[39;49m\u001b[43m \u001b[49m\u001b[43mpower\u001b[49m\u001b[43m)\u001b[49m\u001b[43m(\u001b[49m\u001b[43mstate\u001b[49m\u001b[43m)\u001b[49m\n\u001b[0;32m     23\u001b[0m num_wrong_facelets \u001b[38;5;241m=\u001b[39m \u001b[38;5;28msum\u001b[39m(\u001b[38;5;129;01mnot\u001b[39;00m(s \u001b[38;5;241m==\u001b[39m t) \u001b[38;5;28;01mfor\u001b[39;00m s, t \u001b[38;5;129;01min\u001b[39;00m \u001b[38;5;28mzip\u001b[39m(solution_state, state))\n\u001b[0;32m     24\u001b[0m \u001b[38;5;28;01mif\u001b[39;00m num_wrong_facelets \u001b[38;5;241m>\u001b[39m num_wildcards:\n",
      "File \u001b[1;32mc:\\Users\\enesm\\AppData\\Local\\Programs\\Python\\Python310\\lib\\site-packages\\sympy\\combinatorics\\permutations.py:1659\u001b[0m, in \u001b[0;36mPermutation.__call__\u001b[1;34m(self, *i)\u001b[0m\n\u001b[0;32m   1656\u001b[0m     \u001b[38;5;28;01mif\u001b[39;00m \u001b[38;5;28mlen\u001b[39m(i) \u001b[38;5;241m!=\u001b[39m \u001b[38;5;28mself\u001b[39m\u001b[38;5;241m.\u001b[39msize:\n\u001b[0;32m   1657\u001b[0m         \u001b[38;5;28;01mraise\u001b[39;00m \u001b[38;5;167;01mTypeError\u001b[39;00m(\n\u001b[0;32m   1658\u001b[0m             \u001b[38;5;124m\"\u001b[39m\u001b[38;5;132;01m{}\u001b[39;00m\u001b[38;5;124m should have the length \u001b[39m\u001b[38;5;132;01m{}\u001b[39;00m\u001b[38;5;124m.\u001b[39m\u001b[38;5;124m\"\u001b[39m\u001b[38;5;241m.\u001b[39mformat(i, \u001b[38;5;28mself\u001b[39m\u001b[38;5;241m.\u001b[39msize))\n\u001b[1;32m-> 1659\u001b[0m     \u001b[38;5;28;01mreturn\u001b[39;00m [i[j] \u001b[38;5;28;01mfor\u001b[39;00m j \u001b[38;5;129;01min\u001b[39;00m \u001b[38;5;28mself\u001b[39m\u001b[38;5;241m.\u001b[39m_array_form]\n\u001b[0;32m   1660\u001b[0m \u001b[38;5;66;03m# P(1, 2, 3)\u001b[39;00m\n\u001b[0;32m   1661\u001b[0m \u001b[38;5;28;01mreturn\u001b[39;00m \u001b[38;5;28mself\u001b[39m\u001b[38;5;241m*\u001b[39mPermutation(Cycle(\u001b[38;5;241m*\u001b[39mi), size\u001b[38;5;241m=\u001b[39m\u001b[38;5;28mself\u001b[39m\u001b[38;5;241m.\u001b[39msize)\n",
      "File \u001b[1;32mc:\\Users\\enesm\\AppData\\Local\\Programs\\Python\\Python310\\lib\\site-packages\\sympy\\combinatorics\\permutations.py:1659\u001b[0m, in \u001b[0;36m<listcomp>\u001b[1;34m(.0)\u001b[0m\n\u001b[0;32m   1656\u001b[0m     \u001b[38;5;28;01mif\u001b[39;00m \u001b[38;5;28mlen\u001b[39m(i) \u001b[38;5;241m!=\u001b[39m \u001b[38;5;28mself\u001b[39m\u001b[38;5;241m.\u001b[39msize:\n\u001b[0;32m   1657\u001b[0m         \u001b[38;5;28;01mraise\u001b[39;00m \u001b[38;5;167;01mTypeError\u001b[39;00m(\n\u001b[0;32m   1658\u001b[0m             \u001b[38;5;124m\"\u001b[39m\u001b[38;5;132;01m{}\u001b[39;00m\u001b[38;5;124m should have the length \u001b[39m\u001b[38;5;132;01m{}\u001b[39;00m\u001b[38;5;124m.\u001b[39m\u001b[38;5;124m\"\u001b[39m\u001b[38;5;241m.\u001b[39mformat(i, \u001b[38;5;28mself\u001b[39m\u001b[38;5;241m.\u001b[39msize))\n\u001b[1;32m-> 1659\u001b[0m     \u001b[38;5;28;01mreturn\u001b[39;00m [i[j] \u001b[38;5;28;01mfor\u001b[39;00m j \u001b[38;5;129;01min\u001b[39;00m \u001b[38;5;28mself\u001b[39m\u001b[38;5;241m.\u001b[39m_array_form]\n\u001b[0;32m   1660\u001b[0m \u001b[38;5;66;03m# P(1, 2, 3)\u001b[39;00m\n\u001b[0;32m   1661\u001b[0m \u001b[38;5;28;01mreturn\u001b[39;00m \u001b[38;5;28mself\u001b[39m\u001b[38;5;241m*\u001b[39mPermutation(Cycle(\u001b[38;5;241m*\u001b[39mi), size\u001b[38;5;241m=\u001b[39m\u001b[38;5;28mself\u001b[39m\u001b[38;5;241m.\u001b[39msize)\n",
      "\u001b[1;31mKeyboardInterrupt\u001b[0m: "
     ]
    }
   ],
   "source": [
    "%%time\n",
    "score(paths)"
   ]
  },
  {
   "cell_type": "markdown",
   "id": "9b32c8c2",
   "metadata": {
    "papermill": {
     "duration": 0.006744,
     "end_time": "2023-12-24T23:26:01.959119",
     "exception": false,
     "start_time": "2023-12-24T23:26:01.952375",
     "status": "completed"
    },
    "tags": []
   },
   "source": [
    "# Submission"
   ]
  },
  {
   "cell_type": "code",
   "execution_count": null,
   "id": "4939d3fc",
   "metadata": {
    "execution": {
     "iopub.execute_input": "2023-12-24T23:26:01.974927Z",
     "iopub.status.busy": "2023-12-24T23:26:01.974504Z",
     "iopub.status.idle": "2023-12-24T23:26:03.298624Z",
     "shell.execute_reply": "2023-12-24T23:26:03.297456Z"
    },
    "papermill": {
     "duration": 1.335669,
     "end_time": "2023-12-24T23:26:03.301762",
     "exception": false,
     "start_time": "2023-12-24T23:26:01.966093",
     "status": "completed"
    },
    "tags": []
   },
   "outputs": [
    {
     "name": "stdout",
     "output_type": "stream",
     "text": [
      "id,moves\r\n",
      "0,r1.-f1\r\n",
      "1,f0.r1.f1.-d0.-d0.-f0.-r0.f0.d0\r\n"
     ]
    }
   ],
   "source": [
    "paths[['id','moves']].to_csv('submission.csv', index=False)\n",
    "! head -n 3 submission.csv"
   ]
  }
 ],
 "metadata": {
  "kaggle": {
   "accelerator": "none",
   "dataSources": [
    {
     "databundleVersionId": 7339171,
     "sourceId": 65704,
     "sourceType": "competition"
    },
    {
     "sourceId": 156102323,
     "sourceType": "kernelVersion"
    }
   ],
   "dockerImageVersionId": 30626,
   "isGpuEnabled": false,
   "isInternetEnabled": true,
   "language": "python",
   "sourceType": "notebook"
  },
  "kernelspec": {
   "display_name": "Python 3",
   "language": "python",
   "name": "python3"
  },
  "language_info": {
   "codemirror_mode": {
    "name": "ipython",
    "version": 3
   },
   "file_extension": ".py",
   "mimetype": "text/x-python",
   "name": "python",
   "nbconvert_exporter": "python",
   "pygments_lexer": "ipython3",
   "version": "3.10.10"
  },
  "papermill": {
   "default_parameters": {},
   "duration": 448.687562,
   "end_time": "2023-12-24T23:26:04.032342",
   "environment_variables": {},
   "exception": null,
   "input_path": "__notebook__.ipynb",
   "output_path": "__notebook__.ipynb",
   "parameters": {},
   "start_time": "2023-12-24T23:18:35.344780",
   "version": "2.4.0"
  }
 },
 "nbformat": 4,
 "nbformat_minor": 5
}
